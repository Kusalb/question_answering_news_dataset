{
  "cells": [
    {
      "cell_type": "markdown",
      "id": "6730fecf",
      "metadata": {
        "id": "6730fecf"
      },
      "source": [
        "# Assignment 2\n",
        "### Kusal Bista"
      ]
    },
    {
      "cell_type": "code",
      "execution_count": 163,
      "id": "fb617560-ebfe-47a0-a5ee-fb6a0ec56589",
      "metadata": {
        "id": "fb617560-ebfe-47a0-a5ee-fb6a0ec56589"
      },
      "outputs": [],
      "source": [
        "# Libraries for data reading\n",
        "import glob\n",
        "import json\n",
        "import random\n",
        "import numpy as np\n",
        "import pandas as pd\n",
        "from tqdm import tqdm\n",
        "# import neuralcoref\n",
        "# import stanza\n",
        "# Libraries for pre-processing\n",
        "import re\n",
        "import nltk\n",
        "from nltk import tokenize\n",
        "from nltk.tokenize import word_tokenize\n",
        "from nltk.corpus import stopwords\n",
        "from nltk.stem import WordNetLemmatizer\n",
        "import string\n",
        "\n",
        "# Libraries for information retrieval\n",
        "import spacy\n",
        "from spacy import displacy\n",
        "from spacy.lang.en import English\n",
        "import networkx as nx\n",
        "from sklearn.feature_extraction.text import TfidfVectorizer\n",
        "from sklearn.metrics.pairwise import cosine_similarity\n",
        "\n",
        "# Libraries for data analysis\n",
        "import matplotlib.pyplot as plt\n",
        "from tabulate import tabulate\n",
        "\n",
        "# Libraries for question answering\n",
        "from transformers import AutoTokenizer\n",
        "from transformers import AutoModelForQuestionAnswering\n",
        "import torch\n",
        "import time\n",
        "from transformers import RobertaTokenizer, RobertaModel\n",
        "\n",
        "nlp = spacy.load('en_core_web_sm')\n",
        "\n"
      ]
    },
    {
      "cell_type": "code",
      "execution_count": 164,
      "id": "858f5298-3839-41d9-a86d-2947fc751b10",
      "metadata": {
        "id": "858f5298-3839-41d9-a86d-2947fc751b10"
      },
      "outputs": [],
      "source": [
        "# !pip install tabulate\n",
        "# !pip install matplotlib\n",
        "# !pip install transformers"
      ]
    },
    {
      "cell_type": "code",
      "execution_count": 165,
      "id": "8771dd7c",
      "metadata": {
        "id": "8771dd7c"
      },
      "outputs": [],
      "source": [
        "# !python -m spacy download en_core_web_sm"
      ]
    },
    {
      "cell_type": "code",
      "execution_count": 166,
      "id": "20cde6e7-8e19-4357-8ade-60114da4174c",
      "metadata": {
        "id": "20cde6e7-8e19-4357-8ade-60114da4174c"
      },
      "outputs": [],
      "source": [
        "\n",
        "# !python -m spacy download en_core_web_sm\n",
        "# !python -m spacy download en_core_web_md\n",
        "# !pip install tabulate\n",
        "# !pip install nltk"
      ]
    },
    {
      "cell_type": "code",
      "execution_count": 167,
      "id": "5d0d6e5f-384d-47c7-b959-51604a6bc35c",
      "metadata": {
        "colab": {
          "base_uri": "https://localhost:8080/"
        },
        "id": "5d0d6e5f-384d-47c7-b959-51604a6bc35c",
        "outputId": "b4afad1b-2ea2-4bf7-ac39-4490af124577"
      },
      "outputs": [
        {
          "output_type": "stream",
          "name": "stderr",
          "text": [
            "[nltk_data] Downloading package punkt to /root/nltk_data...\n",
            "[nltk_data]   Package punkt is already up-to-date!\n",
            "[nltk_data] Downloading package stopwords to /root/nltk_data...\n",
            "[nltk_data]   Package stopwords is already up-to-date!\n",
            "[nltk_data] Downloading package wordnet to /root/nltk_data...\n",
            "[nltk_data]   Package wordnet is already up-to-date!\n",
            "[nltk_data] Downloading package omw-1.4 to /root/nltk_data...\n",
            "[nltk_data]   Package omw-1.4 is already up-to-date!\n"
          ]
        },
        {
          "output_type": "execute_result",
          "data": {
            "text/plain": [
              "True"
            ]
          },
          "metadata": {},
          "execution_count": 167
        }
      ],
      "source": [
        "nltk.download('punkt')\n",
        "nltk.download('stopwords')\n",
        "nltk.download('wordnet')\n",
        "nltk.download('omw-1.4')"
      ]
    },
    {
      "cell_type": "markdown",
      "id": "6fd8a509-a9f1-405e-8d0b-6dc96e679322",
      "metadata": {
        "id": "6fd8a509-a9f1-405e-8d0b-6dc96e679322"
      },
      "source": [
        "### 1 Reading dataset and pre-processing"
      ]
    },
    {
      "cell_type": "code",
      "execution_count": 168,
      "id": "c1474a82-79ad-4c8d-8bae-e4d4056d2860",
      "metadata": {
        "id": "c1474a82-79ad-4c8d-8bae-e4d4056d2860"
      },
      "outputs": [],
      "source": [
        "news_dataset = pd.read_csv('news_dataset.csv', encoding='latin-1')"
      ]
    },
    {
      "cell_type": "code",
      "execution_count": 169,
      "id": "de28f0fb-9811-4b2d-96f4-63ff46825a35",
      "metadata": {
        "colab": {
          "base_uri": "https://localhost:8080/",
          "height": 206
        },
        "id": "de28f0fb-9811-4b2d-96f4-63ff46825a35",
        "outputId": "a4aa6b9c-c11a-4fdd-cec9-398bf2738cfd"
      },
      "outputs": [
        {
          "output_type": "execute_result",
          "data": {
            "text/plain": [
              "      id               author        date  year month         topic  \\\n",
              "0  17307       Marlise Simons   1/01/2017  2017     1  architecture   \n",
              "1  17292          Andy Newman  31/12/2016  2016    12           art   \n",
              "2  17298  Emma G. Fitzsimmons   2/01/2017  2017     1      business   \n",
              "3  17311           Carl Hulse   3/01/2017  2017     1      business   \n",
              "4  17339        Jim Rutenberg   5/01/2017  2017     1      business   \n",
              "\n",
              "                                             article  \n",
              "0  PARIS  ?   When the Islamic State was about to...  \n",
              "1  Angels are everywhere in the Mu?iz family?s ap...  \n",
              "2  Finally. The Second Avenue subway opened in Ne...  \n",
              "3  WASHINGTON  ?   It?s   or   time for Republica...  \n",
              "4  For Megyn Kelly, the shift from Fox News to NB...  "
            ],
            "text/html": [
              "\n",
              "  <div id=\"df-4aa75169-a3ee-4284-9f9f-9222daf0ef5a\" class=\"colab-df-container\">\n",
              "    <div>\n",
              "<style scoped>\n",
              "    .dataframe tbody tr th:only-of-type {\n",
              "        vertical-align: middle;\n",
              "    }\n",
              "\n",
              "    .dataframe tbody tr th {\n",
              "        vertical-align: top;\n",
              "    }\n",
              "\n",
              "    .dataframe thead th {\n",
              "        text-align: right;\n",
              "    }\n",
              "</style>\n",
              "<table border=\"1\" class=\"dataframe\">\n",
              "  <thead>\n",
              "    <tr style=\"text-align: right;\">\n",
              "      <th></th>\n",
              "      <th>id</th>\n",
              "      <th>author</th>\n",
              "      <th>date</th>\n",
              "      <th>year</th>\n",
              "      <th>month</th>\n",
              "      <th>topic</th>\n",
              "      <th>article</th>\n",
              "    </tr>\n",
              "  </thead>\n",
              "  <tbody>\n",
              "    <tr>\n",
              "      <th>0</th>\n",
              "      <td>17307</td>\n",
              "      <td>Marlise Simons</td>\n",
              "      <td>1/01/2017</td>\n",
              "      <td>2017</td>\n",
              "      <td>1</td>\n",
              "      <td>architecture</td>\n",
              "      <td>PARIS  ?   When the Islamic State was about to...</td>\n",
              "    </tr>\n",
              "    <tr>\n",
              "      <th>1</th>\n",
              "      <td>17292</td>\n",
              "      <td>Andy Newman</td>\n",
              "      <td>31/12/2016</td>\n",
              "      <td>2016</td>\n",
              "      <td>12</td>\n",
              "      <td>art</td>\n",
              "      <td>Angels are everywhere in the Mu?iz family?s ap...</td>\n",
              "    </tr>\n",
              "    <tr>\n",
              "      <th>2</th>\n",
              "      <td>17298</td>\n",
              "      <td>Emma G. Fitzsimmons</td>\n",
              "      <td>2/01/2017</td>\n",
              "      <td>2017</td>\n",
              "      <td>1</td>\n",
              "      <td>business</td>\n",
              "      <td>Finally. The Second Avenue subway opened in Ne...</td>\n",
              "    </tr>\n",
              "    <tr>\n",
              "      <th>3</th>\n",
              "      <td>17311</td>\n",
              "      <td>Carl Hulse</td>\n",
              "      <td>3/01/2017</td>\n",
              "      <td>2017</td>\n",
              "      <td>1</td>\n",
              "      <td>business</td>\n",
              "      <td>WASHINGTON  ?   It?s   or   time for Republica...</td>\n",
              "    </tr>\n",
              "    <tr>\n",
              "      <th>4</th>\n",
              "      <td>17339</td>\n",
              "      <td>Jim Rutenberg</td>\n",
              "      <td>5/01/2017</td>\n",
              "      <td>2017</td>\n",
              "      <td>1</td>\n",
              "      <td>business</td>\n",
              "      <td>For Megyn Kelly, the shift from Fox News to NB...</td>\n",
              "    </tr>\n",
              "  </tbody>\n",
              "</table>\n",
              "</div>\n",
              "    <div class=\"colab-df-buttons\">\n",
              "\n",
              "  <div class=\"colab-df-container\">\n",
              "    <button class=\"colab-df-convert\" onclick=\"convertToInteractive('df-4aa75169-a3ee-4284-9f9f-9222daf0ef5a')\"\n",
              "            title=\"Convert this dataframe to an interactive table.\"\n",
              "            style=\"display:none;\">\n",
              "\n",
              "  <svg xmlns=\"http://www.w3.org/2000/svg\" height=\"24px\" viewBox=\"0 -960 960 960\">\n",
              "    <path d=\"M120-120v-720h720v720H120Zm60-500h600v-160H180v160Zm220 220h160v-160H400v160Zm0 220h160v-160H400v160ZM180-400h160v-160H180v160Zm440 0h160v-160H620v160ZM180-180h160v-160H180v160Zm440 0h160v-160H620v160Z\"/>\n",
              "  </svg>\n",
              "    </button>\n",
              "\n",
              "  <style>\n",
              "    .colab-df-container {\n",
              "      display:flex;\n",
              "      gap: 12px;\n",
              "    }\n",
              "\n",
              "    .colab-df-convert {\n",
              "      background-color: #E8F0FE;\n",
              "      border: none;\n",
              "      border-radius: 50%;\n",
              "      cursor: pointer;\n",
              "      display: none;\n",
              "      fill: #1967D2;\n",
              "      height: 32px;\n",
              "      padding: 0 0 0 0;\n",
              "      width: 32px;\n",
              "    }\n",
              "\n",
              "    .colab-df-convert:hover {\n",
              "      background-color: #E2EBFA;\n",
              "      box-shadow: 0px 1px 2px rgba(60, 64, 67, 0.3), 0px 1px 3px 1px rgba(60, 64, 67, 0.15);\n",
              "      fill: #174EA6;\n",
              "    }\n",
              "\n",
              "    .colab-df-buttons div {\n",
              "      margin-bottom: 4px;\n",
              "    }\n",
              "\n",
              "    [theme=dark] .colab-df-convert {\n",
              "      background-color: #3B4455;\n",
              "      fill: #D2E3FC;\n",
              "    }\n",
              "\n",
              "    [theme=dark] .colab-df-convert:hover {\n",
              "      background-color: #434B5C;\n",
              "      box-shadow: 0px 1px 3px 1px rgba(0, 0, 0, 0.15);\n",
              "      filter: drop-shadow(0px 1px 2px rgba(0, 0, 0, 0.3));\n",
              "      fill: #FFFFFF;\n",
              "    }\n",
              "  </style>\n",
              "\n",
              "    <script>\n",
              "      const buttonEl =\n",
              "        document.querySelector('#df-4aa75169-a3ee-4284-9f9f-9222daf0ef5a button.colab-df-convert');\n",
              "      buttonEl.style.display =\n",
              "        google.colab.kernel.accessAllowed ? 'block' : 'none';\n",
              "\n",
              "      async function convertToInteractive(key) {\n",
              "        const element = document.querySelector('#df-4aa75169-a3ee-4284-9f9f-9222daf0ef5a');\n",
              "        const dataTable =\n",
              "          await google.colab.kernel.invokeFunction('convertToInteractive',\n",
              "                                                    [key], {});\n",
              "        if (!dataTable) return;\n",
              "\n",
              "        const docLinkHtml = 'Like what you see? Visit the ' +\n",
              "          '<a target=\"_blank\" href=https://colab.research.google.com/notebooks/data_table.ipynb>data table notebook</a>'\n",
              "          + ' to learn more about interactive tables.';\n",
              "        element.innerHTML = '';\n",
              "        dataTable['output_type'] = 'display_data';\n",
              "        await google.colab.output.renderOutput(dataTable, element);\n",
              "        const docLink = document.createElement('div');\n",
              "        docLink.innerHTML = docLinkHtml;\n",
              "        element.appendChild(docLink);\n",
              "      }\n",
              "    </script>\n",
              "  </div>\n",
              "\n",
              "\n",
              "<div id=\"df-4b37087a-60e9-443b-8e89-ebc61a4c6cc8\">\n",
              "  <button class=\"colab-df-quickchart\" onclick=\"quickchart('df-4b37087a-60e9-443b-8e89-ebc61a4c6cc8')\"\n",
              "            title=\"Suggest charts\"\n",
              "            style=\"display:none;\">\n",
              "\n",
              "<svg xmlns=\"http://www.w3.org/2000/svg\" height=\"24px\"viewBox=\"0 0 24 24\"\n",
              "     width=\"24px\">\n",
              "    <g>\n",
              "        <path d=\"M19 3H5c-1.1 0-2 .9-2 2v14c0 1.1.9 2 2 2h14c1.1 0 2-.9 2-2V5c0-1.1-.9-2-2-2zM9 17H7v-7h2v7zm4 0h-2V7h2v10zm4 0h-2v-4h2v4z\"/>\n",
              "    </g>\n",
              "</svg>\n",
              "  </button>\n",
              "\n",
              "<style>\n",
              "  .colab-df-quickchart {\n",
              "      --bg-color: #E8F0FE;\n",
              "      --fill-color: #1967D2;\n",
              "      --hover-bg-color: #E2EBFA;\n",
              "      --hover-fill-color: #174EA6;\n",
              "      --disabled-fill-color: #AAA;\n",
              "      --disabled-bg-color: #DDD;\n",
              "  }\n",
              "\n",
              "  [theme=dark] .colab-df-quickchart {\n",
              "      --bg-color: #3B4455;\n",
              "      --fill-color: #D2E3FC;\n",
              "      --hover-bg-color: #434B5C;\n",
              "      --hover-fill-color: #FFFFFF;\n",
              "      --disabled-bg-color: #3B4455;\n",
              "      --disabled-fill-color: #666;\n",
              "  }\n",
              "\n",
              "  .colab-df-quickchart {\n",
              "    background-color: var(--bg-color);\n",
              "    border: none;\n",
              "    border-radius: 50%;\n",
              "    cursor: pointer;\n",
              "    display: none;\n",
              "    fill: var(--fill-color);\n",
              "    height: 32px;\n",
              "    padding: 0;\n",
              "    width: 32px;\n",
              "  }\n",
              "\n",
              "  .colab-df-quickchart:hover {\n",
              "    background-color: var(--hover-bg-color);\n",
              "    box-shadow: 0 1px 2px rgba(60, 64, 67, 0.3), 0 1px 3px 1px rgba(60, 64, 67, 0.15);\n",
              "    fill: var(--button-hover-fill-color);\n",
              "  }\n",
              "\n",
              "  .colab-df-quickchart-complete:disabled,\n",
              "  .colab-df-quickchart-complete:disabled:hover {\n",
              "    background-color: var(--disabled-bg-color);\n",
              "    fill: var(--disabled-fill-color);\n",
              "    box-shadow: none;\n",
              "  }\n",
              "\n",
              "  .colab-df-spinner {\n",
              "    border: 2px solid var(--fill-color);\n",
              "    border-color: transparent;\n",
              "    border-bottom-color: var(--fill-color);\n",
              "    animation:\n",
              "      spin 1s steps(1) infinite;\n",
              "  }\n",
              "\n",
              "  @keyframes spin {\n",
              "    0% {\n",
              "      border-color: transparent;\n",
              "      border-bottom-color: var(--fill-color);\n",
              "      border-left-color: var(--fill-color);\n",
              "    }\n",
              "    20% {\n",
              "      border-color: transparent;\n",
              "      border-left-color: var(--fill-color);\n",
              "      border-top-color: var(--fill-color);\n",
              "    }\n",
              "    30% {\n",
              "      border-color: transparent;\n",
              "      border-left-color: var(--fill-color);\n",
              "      border-top-color: var(--fill-color);\n",
              "      border-right-color: var(--fill-color);\n",
              "    }\n",
              "    40% {\n",
              "      border-color: transparent;\n",
              "      border-right-color: var(--fill-color);\n",
              "      border-top-color: var(--fill-color);\n",
              "    }\n",
              "    60% {\n",
              "      border-color: transparent;\n",
              "      border-right-color: var(--fill-color);\n",
              "    }\n",
              "    80% {\n",
              "      border-color: transparent;\n",
              "      border-right-color: var(--fill-color);\n",
              "      border-bottom-color: var(--fill-color);\n",
              "    }\n",
              "    90% {\n",
              "      border-color: transparent;\n",
              "      border-bottom-color: var(--fill-color);\n",
              "    }\n",
              "  }\n",
              "</style>\n",
              "\n",
              "  <script>\n",
              "    async function quickchart(key) {\n",
              "      const quickchartButtonEl =\n",
              "        document.querySelector('#' + key + ' button');\n",
              "      quickchartButtonEl.disabled = true;  // To prevent multiple clicks.\n",
              "      quickchartButtonEl.classList.add('colab-df-spinner');\n",
              "      try {\n",
              "        const charts = await google.colab.kernel.invokeFunction(\n",
              "            'suggestCharts', [key], {});\n",
              "      } catch (error) {\n",
              "        console.error('Error during call to suggestCharts:', error);\n",
              "      }\n",
              "      quickchartButtonEl.classList.remove('colab-df-spinner');\n",
              "      quickchartButtonEl.classList.add('colab-df-quickchart-complete');\n",
              "    }\n",
              "    (() => {\n",
              "      let quickchartButtonEl =\n",
              "        document.querySelector('#df-4b37087a-60e9-443b-8e89-ebc61a4c6cc8 button');\n",
              "      quickchartButtonEl.style.display =\n",
              "        google.colab.kernel.accessAllowed ? 'block' : 'none';\n",
              "    })();\n",
              "  </script>\n",
              "</div>\n",
              "\n",
              "    </div>\n",
              "  </div>\n"
            ],
            "application/vnd.google.colaboratory.intrinsic+json": {
              "type": "dataframe",
              "variable_name": "news_dataset",
              "summary": "{\n  \"name\": \"news_dataset\",\n  \"rows\": 1000,\n  \"fields\": [\n    {\n      \"column\": \"id\",\n      \"properties\": {\n        \"dtype\": \"number\",\n        \"std\": 341,\n        \"min\": 17283,\n        \"max\": 18465,\n        \"num_unique_values\": 1000,\n        \"samples\": [\n          17904,\n          18166,\n          18169\n        ],\n        \"semantic_type\": \"\",\n        \"description\": \"\"\n      }\n    },\n    {\n      \"column\": \"author\",\n      \"properties\": {\n        \"dtype\": \"string\",\n        \"num_unique_values\": 579,\n        \"samples\": [\n          \"Daniel E. Slotnik\",\n          \"Tamar Adler\",\n          \"Alan Blinder\"\n        ],\n        \"semantic_type\": \"\",\n        \"description\": \"\"\n      }\n    },\n    {\n      \"column\": \"date\",\n      \"properties\": {\n        \"dtype\": \"category\",\n        \"num_unique_values\": 79,\n        \"samples\": [\n          \"11/03/2017\",\n          \"1/01/2017\",\n          \"12/01/2017\"\n        ],\n        \"semantic_type\": \"\",\n        \"description\": \"\"\n      }\n    },\n    {\n      \"column\": \"year\",\n      \"properties\": {\n        \"dtype\": \"category\",\n        \"num_unique_values\": 3,\n        \"samples\": [\n          \"2017\",\n          \"2016\",\n          \"AMSTERDAM ? Pedram Paragomi, a Iranian medical student, was excited about his first trip to the United States.\\n\\nMr. Paragomi and six other Iranians remained stranded at Schiphol Airport outside Amsterdam on Tuesday, as their travel ordeal stretched into its fourth day.\\n\\nThe largely spontaneous and spirited protests at American airports over the weekend focused on several aspects of Mr. Trump?s order, including a ban on all refugees, an indefinite ban on Syrian refugees and an attempt ? later blocked by judges ? to deport people with valid visas or refugee status who had already arrived in the United States.\\n\\nThe seven Iranians stuck in Amsterdam were pulled aside on Saturday by United States agents stationed at the airport.\\n\\nOne man in the group went to pray at the airport?s meditation center, where he met an airport official who introduced the group to a Dutch pastor who offered to help.\"\n        ],\n        \"semantic_type\": \"\",\n        \"description\": \"\"\n      }\n    },\n    {\n      \"column\": \"month\",\n      \"properties\": {\n        \"dtype\": \"category\",\n        \"num_unique_values\": 8,\n        \"samples\": [\n          \"12\",\n          \"2\",\n          \"1\"\n        ],\n        \"semantic_type\": \"\",\n        \"description\": \"\"\n      }\n    },\n    {\n      \"column\": \"topic\",\n      \"properties\": {\n        \"dtype\": \"category\",\n        \"num_unique_values\": 14,\n        \"samples\": [\n          \"sports\",\n          \"law\",\n          \"architecture\"\n        ],\n        \"semantic_type\": \"\",\n        \"description\": \"\"\n      }\n    },\n    {\n      \"column\": \"article\",\n      \"properties\": {\n        \"dtype\": \"string\",\n        \"num_unique_values\": 995,\n        \"samples\": [\n          \"That was fast. Two weeks after her ?America First? fashion statement at the inauguration, Melania Trump emerged last weekend from the relative seclusion of her life in New York to join her husband at     a. k. a. the winter White   golf club in Florida. And as far as her sartorial language went, America was  ?   well, pretty much last. On Friday, greeting the president as he disembarked from Air Force One in Palm Beach, the first lady wore a short red Givenchy cape dress. On Saturday, at a Red Cross ball, she wore a long   gown from Christian Dior (both brands connected, by the way, to LVMH Mo?t Hennessy Louis Vuitton, the French luxury conglomerate led by Bernard Arnault, the only foreign luxury mogul to have made a postelection pilgrimage to Trump Tower). But on Sunday, for a Super Bowl party at Trump International Golf Club, she wore leather pants from the Row, the brand of   Olsen and Ashley Olsen, and a thin knit sweater by Derek Lam, both names at New York Fashion Week. Does it matter? On one hand, Mrs. Trump has been explicit about her desire to eschew, at least for the moment, the Washington spotlight. Perhaps her clothes are a part of that, and thus the point was simply to look elegant and not to bother with more complicated billboarding. If so, she achieved that aim. However, Mrs. Trump has also said that she intends to meaningfully inhabit the role of first lady, and certainly this appearance was part of that goal. The choice of the red dress  ?   which made for a compelling visual next to President Trump?s red tie as the two walked together along the tarmac  ?   was consciously symbolic, according to Stephanie Winston Wolkoff, Mrs. Trump?s senior adviser, who said it was in honor of ?National Wear Red Day, which is to highlight the importance and raise awareness about heart disease. ? So it?s not like they haven?t been thinking this through. Or that they aren?t aware of the symbolic value of dress, especially when it comes to a first lady who prefers to let her clothes do the talking. If so, there is a contradiction implicit in her choices of clothing, given her husband?s promise in his Inaugural Address that ?Buy American? would be a tenet of his administration. But the    dress requirement for first ladies, historically held dear, was largely taken off the table during the Obama administration and transformed into a vehicle for   outreach. It was Mr. Trump who made it an issue again, and in a forum arguably more public, and permanent, than Twitter. When asked about the issue, Ms. Winston Wolkoff emailed the following statement: ?Mrs. Trump is a proud and longtime supporter of American fashion. She appreciates fashion as art. As a former model, she has always been a patron of the world?s most distinguished designers both here and abroad. Mrs. Trump buys from an international mix of brands because that is what reflects her uniquely American life experience and style. She is more excited than ever to make a platform for American designers as she did on one of the most important weeks in history, the Inauguration, showcasing the extraordinary talents of American designers. ? In other words: Buying European is a reflection of the American shopping experience. For anyone who has walked down any main shopping street in a big American city  ?   such as Fifth Avenue in New York, where Mrs. Trump lives  ?   it?s hard to argue with that. Though it also seems like something of a contorted rationale, and one that could be exploited by companies seeking to relocate some factories overseas. That choice is, after all, also a part of the American industrial story. In any case, it?s worth noting that Givenchy and Dior have been playing possum since the weekend, another indication of fashion?s   relationship with Mrs. Trump. Neither fashion house issued the de rigueur news release trumpeting the first lady?s appearance in one of their dresses. Asked whether the brand had worked with the first lady on the red dress, a spokesman for Givenchy said that the company had no comment and that the dress had been purchased from a store, without any interpersonal discussion. (It is for sale on the Neiman Marcus website, among others, for $2, 095.) Dior simply did not respond. As for Mr. Lam, who in November told the fashion magazine WWD, ?I really don?t see myself getting involved with the Trump presidency,? the situation pretty much shows the problem with that stance. After all, the first lady is free to buy his product, whether he wants to get involved or not. Which is another American story, of sorts.\",\n          \"Good morning.  Here?s what you need to know: ? President Trump is expected to order the construction of a Mexican border wall today and slash immigration of refugees from ?terror prone? nations, White House officials said. He pressed automakers to increase jobs in the U. S. but a new forecast of a federal budget deficit that could expand to almost $10 trillion over 10 years could complicate his agenda to cut taxes and ramp up spending. Mr. Trump also revived two pipelines blocked under President Obama: the Keystone XL pipeline, the focus of years of debate over energy needs and climate change and the Dakota Access pipeline, the target of Native American protests. _____ ? And tensions are rising between the U. S. and China. Beijing, after a challenge from a Trump spokesman, insisted it had ?irrefutable? sovereignty over disputed islands in the South China Sea. China sees opportunities to extend its global reach with Mr. Trump in power, but it also sees a threat to its prized goal, stability. _____ ? Israel, discarding diplomatic restraint just a few days into the Trump administration, approved the construction of 2, 500 housing units for Jews in West Bank settlements. A month ago, the Obama administration declined to veto a Security Council resolution condemning the settlements, and last week, a gathering of world leaders warned Israel to stop expanding them. _____ ? The office of Prime Minister Theresa May pledged to stay on its timetable for taking Britain out of the European Union despite a top court ruling requiring the approval of Parliament before the process can begin. Political observers said it was unlikely that legislators, despite being largely opposed to Brexit, would try to block the will of the voters. _____ ? Three months after Prime Minister Narendra Modi abruptly banned 86 percent of India?s currency in a bid to fight ?black money?  ?   hidden reserves that feed corruption  ?   unemployment is spreading, and some people are going without fruit, vegetables and milk. ?This has actually hurt the poor enormously,? one business leader said. Above, a protest over cash shortages last week. _____ ? And this year?s Oscar nominations are out. Voters gave ?La La Land? 14 nominations, a tie for the most in Academy Award history. The academy also honored six black actors  ?   a record. Here is the full list of nominees. _____ ? The Alibaba Group beat estimates with strong   earnings. The results showed how much the   giant  ?   despite a growing global profile and its record I. P. O. on Wall Street  ?   is still dependent on China. ? Silver Lake, an investment firm, is leading a $1. 1 billion investment in Koubei, an   business that is part of what is increasingly known as the    sector, or O2O. ? President Trump?s pick for the Federal Communications Commission, Ajit Pai, an   from Kansas, is expected to roll back rules that ban internet service providers from favoring certain websites and apps. ? Nearly 470 million Chinese citizens used their mobile phones to make payments last year, an increase of 31 percent from 2015, new government data shows. ? Japan releases data on its imports and exports for December. The country?s   economy has been struggling despite government efforts at stimulus. ? South Korea and Taiwan release G. D. P. figures. ? Wall Street was up. Here?s a snapshot of global markets. ? China?s 816 nuclear plant, begun in the 1960s, was one of the country?s most ambitious military projects. Today, the   mountain has been reborn as a tourist attraction. [The New York Times] ? Peter Thiel, the American billionaire, has taken New Zealand citizenship and quietly acquired a sprawling estate on Lake Wanaka. [New Zealand Herald] ? Afghanistan ordered the arrest of nine bodyguards of Gen. Abdul Rashid Dostum, the more senior of the country?s two vice presidents, on accusations of the rape and torture of an Uzbek elder. [The New York Times] ? A wave of smog is forecast to engulf four northern Chinese provinces as the Lunar New Year approaches. [Reuters] ? Talks in Astana, Kazakhstan, may have done more to to firm up Russia?s growing role in diplomacy over Syria than to create any progress toward peace. [The New York Times] ? A proposal to ban the display of Vietnam?s flag on city poles has divided the Vietnamese community of San Jose, Calif. [The Mercury News] ? Gambia?s former president, Yahya Jammeh, didn?t go into exile in Equatorial Guinea  : He left with two   a   and a plane full of luxury items. [The New York Times] ? China?s government has shut down 111 of the country?s 683 golf courses since 2011, citing illegal land or water use. [Xinhua] ? Scientists found the fossils of a huge, nearly    otter that roamed rivers and lakes in southwestern China about 6. 2 million years ago. [Reuters] ? Doing just 12 minutes of yoga can improve your bone health. ? Vacations don?t have to be all about relaxing: Here?s how to plan one with some good deeds along the way. ? Recipe of the day: Try this grilled cheese sandwich featuring mayonnaise for some midweek comfort food. ? In China, members of the Tanka people have survived on southern coastal waterways, and on the margins of society, since ancient times. As big cities spread, their floating way of life is disappearing. ? Genetic research is taking some truly   turns. Ant researchers have identified the molecular and neural cues that help explain social behaviors, including caring for young, breeding  ?   even capturing and   upstarts, like tiny police officers. ? And a pioneering scientist, Maria Sibylla Merian, captivated Europeans 300 years ago with her studies of insects. Now, her findings are being celebrated again. Grandstands filled with cheering fans, perfectly plated vegetables, and your country?s name on the line  ?   this isn?t your typical cooking competition. This is the Bocuse d?Or, or the culinary version of the Olympics. The competition, which takes place this week in Lyon, France, was founded by the master French chef Paul Bocuse. He was influential in establishing nouvelle cuisine, which emphasizes ingredients and presentation. At 90, Mr. Bocuse remains a king among chefs. Long before ?  ? became a trendy concept, a    Bocuse was learning how to butcher a cow for his first restaurant job. He eventually joined his father at their family restaurant, L?Auberge du Pont de Collonges. One year after he took over, the restaurant won a Michelin star. He recalled how early in his career he wowed a prominent food critic with fresh ingredients. Mr. Bocuse served haricots verts picked that morning, lightly boiled and served with olive oil, shallots and salt. In 1966, The Times?s Craig Claiborne described the restaurant outside of Lyon as ?one of the most elegant and proudest restaurants outside of Paris. ? Mr. Bocuse, though, once offered a less refined assessment of his skills. ?Some men have mistresses,? Mr. Bocuse once said. ?I run a luxury restaurant. ? Remy Tumin contributed reporting. _____ Your Morning Briefing is published weekday mornings. What would you like to see here? Contact us at asiabriefing@nytimes. com.\",\n          \"Now that Joaqu\\u00adn Guzm\\u00ffn Loera, the crime lord known as El Chapo, has been extradited from Mexico and has pleaded not guilty in Brooklyn to charges of running the planet?s biggest drug empire, his prosecution will enter a crucial phase  ?   provided, of course, he does not manage to tunnel free from the   jail in Manhattan where he is being held. Two chief questions will define what comes next: Will Mr. Guzm\\u00ffn decide to go to trial? And if he does, what sort of defense will he mount to counter what appears to be a Matterhorn of evidence against him? When Robert L. Capers, the United States attorney in Brooklyn, outlined the government?s case against Mr. Guzm\\u00ffn at a news conference on Friday, he seemed unable to disguise a sly smile of satisfaction. After all, that morning, Mr. Capers?s office had filed a memorandum that set forth in exhaustive detail the cinematic story of Mr. Guzm\\u00ffn?s rise from a teenage marijuana farmer to an international kingpin who armed himself with a diamond encrusted pistol. It further noted that dozens of witnesses were lined up to testify and corroborate what prosecutors described as extensive secret recordings in which Mr. Guzm\\u00ffn discussed drug transactions. Several lawyers who have represented drug lords in the past said that the aggressive tenor of the memo suggested that, at least for now, federal prosecutors were serious about trying Mr. Guzm\\u00ffn and were unlikely to offer him a deal to plead guilty to lesser charges. Mr. Guzm\\u00ffn, moreover, is facing life in prison on a sweeping count of running a continuing criminal enterprise. So there was no real downside, the lawyers said, for him to fight the government?s case. ?The government has made it clear that they?re going full bore with this,? said David O. Markus, who negotiated the 2006 guilty pleas for Gilberto and Miguel Rodr\\u00adguez Orejuela, Colombian brothers who helped found the Cali cartel. ?For El Chapo, if there?s no offer on the table and it?s life if you go to trial and life or near it if you plead guilty, it?s pretty easy  ?   he?ll go to trial. ? Before Mr. Guzm\\u00ffn has to make that decision, however, a number of complicated issues are certain to arise. Given that he has been indicted not only in Brooklyn, but also in six other federal districts, his legal team is likely to question whether he is being prosecuted in the appropriate jurisdiction. They could also attack the manner in which he was sent to New York, some lawyers said, casting doubt on whether he was properly extradited. Then there is the question of his hiring a private lawyer. For the moment, Mr. Guzm\\u00ffn is being represented by two seasoned public defenders, Michael Schneider and Michelle Gelernt. While there is a   narco bar of lawyers, mainly in Florida and Texas, who regularly handle cartel cases, many of them are already representing people who may appear as witnesses at Mr. Guzm\\u00ffn?s trial. Further complicating matters, the federal government has said that it wants to seize $14 billion in profits that Mr. Guzm\\u00ffn was said to have made while running the Sinaloa cartel, leaving his financial situation unclear. ?Many good criminal defense lawyers may shy away from the case not only because of the conduct that?s been charged, but because it?s hard to get paid if the government argues that all his money is   tainted,? said Benjamin Brafman, one of New York City?s top defense lawyers. But if Mr. Guzm\\u00ffn does end up before a jury, Mr. Brafman and other lawyers said that he could borrow a tactic from the manifold Mafia trials that have taken place in Brooklyn and defend himself by attacking the credibility of the government?s witnesses. According to the prosecution?s memo, ?a large coterie of cooperating witnesses?  ?   among them, Colombian cartel members, Mexican couriers and United   distributors  ?   is ready to testify about every aspect of Mr. Guzm\\u00ffn?s organization, including bribes paid to politicians and murders of rival drug dealers and government and law enforcement officials. ?It?s inconceivable to me that these people don?t have baggage of their own,? Mr. Brafman said, ?if, indeed, they were involved in the organization for a long time. ? The case of Vicente Zambada Niebla, the son of Ismael Zambada Garc\\u00ada, who long served as Mr. Guzm\\u00ffn?s top lieutenant in the Sinaloa cartel, offers another possible avenue of defense. Mr. Zambada was arrested by the Mexican authorities in 2009 and extradited to Chicago, where he was poised to stand trial as the cartel?s chief logistics officer for importing drugs into that city. But a few years into the case his lawyers suddenly claimed that he could not be prosecuted in the United States because he had been secretly working as an informant for the Drug Enforcement Administration. Though the government subsequently acknowledged that D. E. A. agents had in fact met with Mr. Zambada, it denied that it had engaged with him in any quid pro quo. Nonetheless, in 2014, the D. E. A. announced that Mr. Zambada would not stand trial because he had pleaded guilty to trafficking charges and was working as a government informant. The possibility that Mr. Guzm\\u00ffn might also become an informant is a complicated one. Some lawyers said that because he was accused in court papers of kidnapping, torture and causing the deaths of thousands of people, it would be hard to imagine the government allowing him to cooperate  ?   unless, perhaps, he had reliable and damning information on   Mexican officials. Others said they found that prospect dubious because of Mr. Guzm\\u00ffn?s reputation as a Robin   hero in his homeland. ?He has this mythic legacy behind him,? said W. Rob Heroy, a lawyer for Carlos Ramon   a Mexican who pleaded guilty in 2014 to producing and distributing heroin in the United States, much of it in and around Charlotte, N. C. ?Maybe the government would want him as an informant, but I just can?t see El Chapo getting done with all of that and then going to work at a Cinnabon in Omaha. ?\"\n        ],\n        \"semantic_type\": \"\",\n        \"description\": \"\"\n      }\n    }\n  ]\n}"
            }
          },
          "metadata": {},
          "execution_count": 169
        }
      ],
      "source": [
        "news_dataset.head()"
      ]
    },
    {
      "cell_type": "code",
      "execution_count": 170,
      "id": "e04327fa-2d19-4ba8-9291-984303ca5ef8",
      "metadata": {
        "colab": {
          "base_uri": "https://localhost:8080/"
        },
        "id": "e04327fa-2d19-4ba8-9291-984303ca5ef8",
        "outputId": "6f935422-9a93-4eba-e846-527c0ce8a585"
      },
      "outputs": [
        {
          "output_type": "stream",
          "name": "stdout",
          "text": [
            "Sampled dataset shape: (100, 7)\n"
          ]
        }
      ],
      "source": [
        "# selecting 100 sample\n",
        "test_article = news_dataset[news_dataset['id'] == 17574]\n",
        "sample_size = 100\n",
        "if news_dataset.shape[0] >= sample_size:\n",
        "    news_dataset = news_dataset.sample(n=sample_size, random_state=42)  # Adjusting random_state for reproducibility\n",
        "    news_dataset.reset_index(drop=True, inplace=True)\n",
        "    print(\"Sampled dataset shape:\", news_dataset.shape)\n",
        "else:\n",
        "    print(\"Dataset size is less than the sample size. Cannot perform sampling.\")\n",
        "\n",
        "news_dataset = pd.concat([news_dataset, test_article], ignore_index=True)"
      ]
    },
    {
      "cell_type": "code",
      "execution_count": 171,
      "id": "573c3a0c-0f0f-4790-a794-9a0f87613737",
      "metadata": {
        "colab": {
          "base_uri": "https://localhost:8080/"
        },
        "id": "573c3a0c-0f0f-4790-a794-9a0f87613737",
        "outputId": "f96cb50c-7224-4194-92ad-222915f604eb"
      },
      "outputs": [
        {
          "output_type": "stream",
          "name": "stdout",
          "text": [
            "<class 'pandas.core.frame.DataFrame'>\n",
            "RangeIndex: 101 entries, 0 to 100\n",
            "Data columns (total 7 columns):\n",
            " #   Column   Non-Null Count  Dtype \n",
            "---  ------   --------------  ----- \n",
            " 0   id       101 non-null    int64 \n",
            " 1   author   100 non-null    object\n",
            " 2   date     101 non-null    object\n",
            " 3   year     101 non-null    object\n",
            " 4   month    101 non-null    object\n",
            " 5   topic    101 non-null    object\n",
            " 6   article  101 non-null    object\n",
            "dtypes: int64(1), object(6)\n",
            "memory usage: 5.6+ KB\n"
          ]
        }
      ],
      "source": [
        "news_dataset.info()"
      ]
    },
    {
      "cell_type": "markdown",
      "id": "b177652d-42ca-4e6f-ba8d-ad3a95c503b1",
      "metadata": {
        "id": "b177652d-42ca-4e6f-ba8d-ad3a95c503b1"
      },
      "source": [
        "### 1.2 Handling missing value"
      ]
    },
    {
      "cell_type": "code",
      "execution_count": 172,
      "id": "be0eccc9-7ea3-4155-be46-4373e2338b56",
      "metadata": {
        "colab": {
          "base_uri": "https://localhost:8080/"
        },
        "id": "be0eccc9-7ea3-4155-be46-4373e2338b56",
        "outputId": "40e461b7-f45f-4291-cc3e-ed59840e1c61"
      },
      "outputs": [
        {
          "output_type": "stream",
          "name": "stdout",
          "text": [
            "Missing value\n",
            "id         0\n",
            "author     1\n",
            "date       0\n",
            "year       0\n",
            "month      0\n",
            "topic      0\n",
            "article    0\n",
            "dtype: int64\n"
          ]
        }
      ],
      "source": [
        "print(\"Missing value\")\n",
        "print(news_dataset.isnull().sum())"
      ]
    },
    {
      "cell_type": "code",
      "execution_count": 173,
      "id": "bf22242e-51d4-48a3-b91d-58d55ca2216a",
      "metadata": {
        "id": "bf22242e-51d4-48a3-b91d-58d55ca2216a"
      },
      "outputs": [],
      "source": [
        "# Handling missing value\n",
        "news_dataset['author'] = news_dataset['author'].fillna('No author')\n",
        "# checking missing value after handling missing value"
      ]
    },
    {
      "cell_type": "code",
      "execution_count": 174,
      "id": "71e52309-3c2c-4899-b621-263597321d8a",
      "metadata": {
        "colab": {
          "base_uri": "https://localhost:8080/"
        },
        "id": "71e52309-3c2c-4899-b621-263597321d8a",
        "outputId": "27825a7f-2ce9-4a51-869b-682425d0e0b7"
      },
      "outputs": [
        {
          "output_type": "stream",
          "name": "stdout",
          "text": [
            "After handling missing value\n",
            "id         0\n",
            "author     0\n",
            "date       0\n",
            "year       0\n",
            "month      0\n",
            "topic      0\n",
            "article    0\n",
            "dtype: int64\n"
          ]
        }
      ],
      "source": [
        "print(\"After handling missing value\")\n",
        "print(news_dataset.isnull().sum())"
      ]
    },
    {
      "cell_type": "code",
      "execution_count": 175,
      "id": "edb4773a-7d99-41fe-bed4-f10628d76eb1",
      "metadata": {
        "colab": {
          "base_uri": "https://localhost:8080/",
          "height": 426
        },
        "id": "edb4773a-7d99-41fe-bed4-f10628d76eb1",
        "outputId": "2c007dcf-0104-4e3e-bd1d-3fae1ce16b1d"
      },
      "outputs": [
        {
          "output_type": "execute_result",
          "data": {
            "text/plain": [
              "       id                author        date  year month          topic  \\\n",
              "0   17904         Brooks Barnes  23/01/2017  2017     1  entertainment   \n",
              "1   18166     Matt Flegenheimer   2/02/2017  2017     2       business   \n",
              "2   18169       Somini Sengupta   2/02/2017  2017     2       business   \n",
              "3   18055          Emily Palmer  26/01/2017  2017     1      lifestyle   \n",
              "4   17776            Liam Stack  20/01/2017  2017     1  entertainment   \n",
              "5   18079         Dave Philipps   5/02/2017  2017     2        science   \n",
              "6   18019        Justin Wolfers  30/01/2017  2017     1       politics   \n",
              "7   17895           Adam Liptak  24/01/2017  2017     1       politics   \n",
              "8   18308            Ken Belson   8/02/2017  2017     2         sports   \n",
              "9   17452  The Associated Press   8/01/2017  2017     1         sports   \n",
              "10  18253          Shivani Vora  14/02/2017  2017     2  entertainment   \n",
              "11  17382       Gaia Pianigiani  25/01/2017  2017     1       business   \n",
              "\n",
              "                                              article  \n",
              "0   Nominations for the 89th Academy Awards will b...  \n",
              "1   WASHINGTON  ?   President Trump, seeming to re...  \n",
              "2   UNITED NATIONS  ?   The new secretary general ...  \n",
              "3   On a chilly October morning, Talea Childs, 4, ...  \n",
              "4   celebrities may be staying away from Donald J....  \n",
              "5   RICHLAND, Wash.  ?   When Tim Snider arrived o...  \n",
              "6   Even if President Trump?s      fails over the ...  \n",
              "7   WASHINGTON  ?   The Supreme Court rejected on ...  \n",
              "8   HOUSTON  ?   There was the game on the field, ...  \n",
              "9   HOUSTON  ?   Follow our live N. F. L. playoffs...  \n",
              "10  Beach and spa vacations are typically associat...  \n",
              "11  LECCE, Italy  ?   One of his first students wa...  "
            ],
            "text/html": [
              "\n",
              "  <div id=\"df-e9e9e797-29d2-47dc-ad3f-43f53e533d7f\" class=\"colab-df-container\">\n",
              "    <div>\n",
              "<style scoped>\n",
              "    .dataframe tbody tr th:only-of-type {\n",
              "        vertical-align: middle;\n",
              "    }\n",
              "\n",
              "    .dataframe tbody tr th {\n",
              "        vertical-align: top;\n",
              "    }\n",
              "\n",
              "    .dataframe thead th {\n",
              "        text-align: right;\n",
              "    }\n",
              "</style>\n",
              "<table border=\"1\" class=\"dataframe\">\n",
              "  <thead>\n",
              "    <tr style=\"text-align: right;\">\n",
              "      <th></th>\n",
              "      <th>id</th>\n",
              "      <th>author</th>\n",
              "      <th>date</th>\n",
              "      <th>year</th>\n",
              "      <th>month</th>\n",
              "      <th>topic</th>\n",
              "      <th>article</th>\n",
              "    </tr>\n",
              "  </thead>\n",
              "  <tbody>\n",
              "    <tr>\n",
              "      <th>0</th>\n",
              "      <td>17904</td>\n",
              "      <td>Brooks Barnes</td>\n",
              "      <td>23/01/2017</td>\n",
              "      <td>2017</td>\n",
              "      <td>1</td>\n",
              "      <td>entertainment</td>\n",
              "      <td>Nominations for the 89th Academy Awards will b...</td>\n",
              "    </tr>\n",
              "    <tr>\n",
              "      <th>1</th>\n",
              "      <td>18166</td>\n",
              "      <td>Matt Flegenheimer</td>\n",
              "      <td>2/02/2017</td>\n",
              "      <td>2017</td>\n",
              "      <td>2</td>\n",
              "      <td>business</td>\n",
              "      <td>WASHINGTON  ?   President Trump, seeming to re...</td>\n",
              "    </tr>\n",
              "    <tr>\n",
              "      <th>2</th>\n",
              "      <td>18169</td>\n",
              "      <td>Somini Sengupta</td>\n",
              "      <td>2/02/2017</td>\n",
              "      <td>2017</td>\n",
              "      <td>2</td>\n",
              "      <td>business</td>\n",
              "      <td>UNITED NATIONS  ?   The new secretary general ...</td>\n",
              "    </tr>\n",
              "    <tr>\n",
              "      <th>3</th>\n",
              "      <td>18055</td>\n",
              "      <td>Emily Palmer</td>\n",
              "      <td>26/01/2017</td>\n",
              "      <td>2017</td>\n",
              "      <td>1</td>\n",
              "      <td>lifestyle</td>\n",
              "      <td>On a chilly October morning, Talea Childs, 4, ...</td>\n",
              "    </tr>\n",
              "    <tr>\n",
              "      <th>4</th>\n",
              "      <td>17776</td>\n",
              "      <td>Liam Stack</td>\n",
              "      <td>20/01/2017</td>\n",
              "      <td>2017</td>\n",
              "      <td>1</td>\n",
              "      <td>entertainment</td>\n",
              "      <td>celebrities may be staying away from Donald J....</td>\n",
              "    </tr>\n",
              "    <tr>\n",
              "      <th>5</th>\n",
              "      <td>18079</td>\n",
              "      <td>Dave Philipps</td>\n",
              "      <td>5/02/2017</td>\n",
              "      <td>2017</td>\n",
              "      <td>2</td>\n",
              "      <td>science</td>\n",
              "      <td>RICHLAND, Wash.  ?   When Tim Snider arrived o...</td>\n",
              "    </tr>\n",
              "    <tr>\n",
              "      <th>6</th>\n",
              "      <td>18019</td>\n",
              "      <td>Justin Wolfers</td>\n",
              "      <td>30/01/2017</td>\n",
              "      <td>2017</td>\n",
              "      <td>1</td>\n",
              "      <td>politics</td>\n",
              "      <td>Even if President Trump?s      fails over the ...</td>\n",
              "    </tr>\n",
              "    <tr>\n",
              "      <th>7</th>\n",
              "      <td>17895</td>\n",
              "      <td>Adam Liptak</td>\n",
              "      <td>24/01/2017</td>\n",
              "      <td>2017</td>\n",
              "      <td>1</td>\n",
              "      <td>politics</td>\n",
              "      <td>WASHINGTON  ?   The Supreme Court rejected on ...</td>\n",
              "    </tr>\n",
              "    <tr>\n",
              "      <th>8</th>\n",
              "      <td>18308</td>\n",
              "      <td>Ken Belson</td>\n",
              "      <td>8/02/2017</td>\n",
              "      <td>2017</td>\n",
              "      <td>2</td>\n",
              "      <td>sports</td>\n",
              "      <td>HOUSTON  ?   There was the game on the field, ...</td>\n",
              "    </tr>\n",
              "    <tr>\n",
              "      <th>9</th>\n",
              "      <td>17452</td>\n",
              "      <td>The Associated Press</td>\n",
              "      <td>8/01/2017</td>\n",
              "      <td>2017</td>\n",
              "      <td>1</td>\n",
              "      <td>sports</td>\n",
              "      <td>HOUSTON  ?   Follow our live N. F. L. playoffs...</td>\n",
              "    </tr>\n",
              "    <tr>\n",
              "      <th>10</th>\n",
              "      <td>18253</td>\n",
              "      <td>Shivani Vora</td>\n",
              "      <td>14/02/2017</td>\n",
              "      <td>2017</td>\n",
              "      <td>2</td>\n",
              "      <td>entertainment</td>\n",
              "      <td>Beach and spa vacations are typically associat...</td>\n",
              "    </tr>\n",
              "    <tr>\n",
              "      <th>11</th>\n",
              "      <td>17382</td>\n",
              "      <td>Gaia Pianigiani</td>\n",
              "      <td>25/01/2017</td>\n",
              "      <td>2017</td>\n",
              "      <td>1</td>\n",
              "      <td>business</td>\n",
              "      <td>LECCE, Italy  ?   One of his first students wa...</td>\n",
              "    </tr>\n",
              "  </tbody>\n",
              "</table>\n",
              "</div>\n",
              "    <div class=\"colab-df-buttons\">\n",
              "\n",
              "  <div class=\"colab-df-container\">\n",
              "    <button class=\"colab-df-convert\" onclick=\"convertToInteractive('df-e9e9e797-29d2-47dc-ad3f-43f53e533d7f')\"\n",
              "            title=\"Convert this dataframe to an interactive table.\"\n",
              "            style=\"display:none;\">\n",
              "\n",
              "  <svg xmlns=\"http://www.w3.org/2000/svg\" height=\"24px\" viewBox=\"0 -960 960 960\">\n",
              "    <path d=\"M120-120v-720h720v720H120Zm60-500h600v-160H180v160Zm220 220h160v-160H400v160Zm0 220h160v-160H400v160ZM180-400h160v-160H180v160Zm440 0h160v-160H620v160ZM180-180h160v-160H180v160Zm440 0h160v-160H620v160Z\"/>\n",
              "  </svg>\n",
              "    </button>\n",
              "\n",
              "  <style>\n",
              "    .colab-df-container {\n",
              "      display:flex;\n",
              "      gap: 12px;\n",
              "    }\n",
              "\n",
              "    .colab-df-convert {\n",
              "      background-color: #E8F0FE;\n",
              "      border: none;\n",
              "      border-radius: 50%;\n",
              "      cursor: pointer;\n",
              "      display: none;\n",
              "      fill: #1967D2;\n",
              "      height: 32px;\n",
              "      padding: 0 0 0 0;\n",
              "      width: 32px;\n",
              "    }\n",
              "\n",
              "    .colab-df-convert:hover {\n",
              "      background-color: #E2EBFA;\n",
              "      box-shadow: 0px 1px 2px rgba(60, 64, 67, 0.3), 0px 1px 3px 1px rgba(60, 64, 67, 0.15);\n",
              "      fill: #174EA6;\n",
              "    }\n",
              "\n",
              "    .colab-df-buttons div {\n",
              "      margin-bottom: 4px;\n",
              "    }\n",
              "\n",
              "    [theme=dark] .colab-df-convert {\n",
              "      background-color: #3B4455;\n",
              "      fill: #D2E3FC;\n",
              "    }\n",
              "\n",
              "    [theme=dark] .colab-df-convert:hover {\n",
              "      background-color: #434B5C;\n",
              "      box-shadow: 0px 1px 3px 1px rgba(0, 0, 0, 0.15);\n",
              "      filter: drop-shadow(0px 1px 2px rgba(0, 0, 0, 0.3));\n",
              "      fill: #FFFFFF;\n",
              "    }\n",
              "  </style>\n",
              "\n",
              "    <script>\n",
              "      const buttonEl =\n",
              "        document.querySelector('#df-e9e9e797-29d2-47dc-ad3f-43f53e533d7f button.colab-df-convert');\n",
              "      buttonEl.style.display =\n",
              "        google.colab.kernel.accessAllowed ? 'block' : 'none';\n",
              "\n",
              "      async function convertToInteractive(key) {\n",
              "        const element = document.querySelector('#df-e9e9e797-29d2-47dc-ad3f-43f53e533d7f');\n",
              "        const dataTable =\n",
              "          await google.colab.kernel.invokeFunction('convertToInteractive',\n",
              "                                                    [key], {});\n",
              "        if (!dataTable) return;\n",
              "\n",
              "        const docLinkHtml = 'Like what you see? Visit the ' +\n",
              "          '<a target=\"_blank\" href=https://colab.research.google.com/notebooks/data_table.ipynb>data table notebook</a>'\n",
              "          + ' to learn more about interactive tables.';\n",
              "        element.innerHTML = '';\n",
              "        dataTable['output_type'] = 'display_data';\n",
              "        await google.colab.output.renderOutput(dataTable, element);\n",
              "        const docLink = document.createElement('div');\n",
              "        docLink.innerHTML = docLinkHtml;\n",
              "        element.appendChild(docLink);\n",
              "      }\n",
              "    </script>\n",
              "  </div>\n",
              "\n",
              "\n",
              "<div id=\"df-c2b6293f-4b1c-4b36-95b2-89386d42d53a\">\n",
              "  <button class=\"colab-df-quickchart\" onclick=\"quickchart('df-c2b6293f-4b1c-4b36-95b2-89386d42d53a')\"\n",
              "            title=\"Suggest charts\"\n",
              "            style=\"display:none;\">\n",
              "\n",
              "<svg xmlns=\"http://www.w3.org/2000/svg\" height=\"24px\"viewBox=\"0 0 24 24\"\n",
              "     width=\"24px\">\n",
              "    <g>\n",
              "        <path d=\"M19 3H5c-1.1 0-2 .9-2 2v14c0 1.1.9 2 2 2h14c1.1 0 2-.9 2-2V5c0-1.1-.9-2-2-2zM9 17H7v-7h2v7zm4 0h-2V7h2v10zm4 0h-2v-4h2v4z\"/>\n",
              "    </g>\n",
              "</svg>\n",
              "  </button>\n",
              "\n",
              "<style>\n",
              "  .colab-df-quickchart {\n",
              "      --bg-color: #E8F0FE;\n",
              "      --fill-color: #1967D2;\n",
              "      --hover-bg-color: #E2EBFA;\n",
              "      --hover-fill-color: #174EA6;\n",
              "      --disabled-fill-color: #AAA;\n",
              "      --disabled-bg-color: #DDD;\n",
              "  }\n",
              "\n",
              "  [theme=dark] .colab-df-quickchart {\n",
              "      --bg-color: #3B4455;\n",
              "      --fill-color: #D2E3FC;\n",
              "      --hover-bg-color: #434B5C;\n",
              "      --hover-fill-color: #FFFFFF;\n",
              "      --disabled-bg-color: #3B4455;\n",
              "      --disabled-fill-color: #666;\n",
              "  }\n",
              "\n",
              "  .colab-df-quickchart {\n",
              "    background-color: var(--bg-color);\n",
              "    border: none;\n",
              "    border-radius: 50%;\n",
              "    cursor: pointer;\n",
              "    display: none;\n",
              "    fill: var(--fill-color);\n",
              "    height: 32px;\n",
              "    padding: 0;\n",
              "    width: 32px;\n",
              "  }\n",
              "\n",
              "  .colab-df-quickchart:hover {\n",
              "    background-color: var(--hover-bg-color);\n",
              "    box-shadow: 0 1px 2px rgba(60, 64, 67, 0.3), 0 1px 3px 1px rgba(60, 64, 67, 0.15);\n",
              "    fill: var(--button-hover-fill-color);\n",
              "  }\n",
              "\n",
              "  .colab-df-quickchart-complete:disabled,\n",
              "  .colab-df-quickchart-complete:disabled:hover {\n",
              "    background-color: var(--disabled-bg-color);\n",
              "    fill: var(--disabled-fill-color);\n",
              "    box-shadow: none;\n",
              "  }\n",
              "\n",
              "  .colab-df-spinner {\n",
              "    border: 2px solid var(--fill-color);\n",
              "    border-color: transparent;\n",
              "    border-bottom-color: var(--fill-color);\n",
              "    animation:\n",
              "      spin 1s steps(1) infinite;\n",
              "  }\n",
              "\n",
              "  @keyframes spin {\n",
              "    0% {\n",
              "      border-color: transparent;\n",
              "      border-bottom-color: var(--fill-color);\n",
              "      border-left-color: var(--fill-color);\n",
              "    }\n",
              "    20% {\n",
              "      border-color: transparent;\n",
              "      border-left-color: var(--fill-color);\n",
              "      border-top-color: var(--fill-color);\n",
              "    }\n",
              "    30% {\n",
              "      border-color: transparent;\n",
              "      border-left-color: var(--fill-color);\n",
              "      border-top-color: var(--fill-color);\n",
              "      border-right-color: var(--fill-color);\n",
              "    }\n",
              "    40% {\n",
              "      border-color: transparent;\n",
              "      border-right-color: var(--fill-color);\n",
              "      border-top-color: var(--fill-color);\n",
              "    }\n",
              "    60% {\n",
              "      border-color: transparent;\n",
              "      border-right-color: var(--fill-color);\n",
              "    }\n",
              "    80% {\n",
              "      border-color: transparent;\n",
              "      border-right-color: var(--fill-color);\n",
              "      border-bottom-color: var(--fill-color);\n",
              "    }\n",
              "    90% {\n",
              "      border-color: transparent;\n",
              "      border-bottom-color: var(--fill-color);\n",
              "    }\n",
              "  }\n",
              "</style>\n",
              "\n",
              "  <script>\n",
              "    async function quickchart(key) {\n",
              "      const quickchartButtonEl =\n",
              "        document.querySelector('#' + key + ' button');\n",
              "      quickchartButtonEl.disabled = true;  // To prevent multiple clicks.\n",
              "      quickchartButtonEl.classList.add('colab-df-spinner');\n",
              "      try {\n",
              "        const charts = await google.colab.kernel.invokeFunction(\n",
              "            'suggestCharts', [key], {});\n",
              "      } catch (error) {\n",
              "        console.error('Error during call to suggestCharts:', error);\n",
              "      }\n",
              "      quickchartButtonEl.classList.remove('colab-df-spinner');\n",
              "      quickchartButtonEl.classList.add('colab-df-quickchart-complete');\n",
              "    }\n",
              "    (() => {\n",
              "      let quickchartButtonEl =\n",
              "        document.querySelector('#df-c2b6293f-4b1c-4b36-95b2-89386d42d53a button');\n",
              "      quickchartButtonEl.style.display =\n",
              "        google.colab.kernel.accessAllowed ? 'block' : 'none';\n",
              "    })();\n",
              "  </script>\n",
              "</div>\n",
              "\n",
              "    </div>\n",
              "  </div>\n"
            ],
            "application/vnd.google.colaboratory.intrinsic+json": {
              "type": "dataframe",
              "variable_name": "news_dataset",
              "summary": "{\n  \"name\": \"news_dataset\",\n  \"rows\": 101,\n  \"fields\": [\n    {\n      \"column\": \"id\",\n      \"properties\": {\n        \"dtype\": \"number\",\n        \"std\": 340,\n        \"min\": 17294,\n        \"max\": 18463,\n        \"num_unique_values\": 101,\n        \"samples\": [\n          17663,\n          17361,\n          18058\n        ],\n        \"semantic_type\": \"\",\n        \"description\": \"\"\n      }\n    },\n    {\n      \"column\": \"author\",\n      \"properties\": {\n        \"dtype\": \"string\",\n        \"num_unique_values\": 93,\n        \"samples\": [\n          \"Mike Hale\",\n          \"Emmarie Huetteman\",\n          \"Corinna da Fonseca-Wollheim\"\n        ],\n        \"semantic_type\": \"\",\n        \"description\": \"\"\n      }\n    },\n    {\n      \"column\": \"date\",\n      \"properties\": {\n        \"dtype\": \"object\",\n        \"num_unique_values\": 39,\n        \"samples\": [\n          \"12/02/2017\",\n          \"22/01/2017\",\n          \"5/02/2017\"\n        ],\n        \"semantic_type\": \"\",\n        \"description\": \"\"\n      }\n    },\n    {\n      \"column\": \"year\",\n      \"properties\": {\n        \"dtype\": \"object\",\n        \"num_unique_values\": 1,\n        \"samples\": [\n          \"2017\"\n        ],\n        \"semantic_type\": \"\",\n        \"description\": \"\"\n      }\n    },\n    {\n      \"column\": \"month\",\n      \"properties\": {\n        \"dtype\": \"category\",\n        \"num_unique_values\": 3,\n        \"samples\": [\n          \"1\"\n        ],\n        \"semantic_type\": \"\",\n        \"description\": \"\"\n      }\n    },\n    {\n      \"column\": \"topic\",\n      \"properties\": {\n        \"dtype\": \"category\",\n        \"num_unique_values\": 9,\n        \"samples\": [\n          \"law\"\n        ],\n        \"semantic_type\": \"\",\n        \"description\": \"\"\n      }\n    },\n    {\n      \"column\": \"article\",\n      \"properties\": {\n        \"dtype\": \"string\",\n        \"num_unique_values\": 101,\n        \"samples\": [\n          \"HAVANA  ?   Andr?s Iv\\u00ffn and his girlfriend grew up in Cuba but had long planned their future in the United States. She left four months ago to find work and made it to Miami, where she was legally welcomed. He stayed in Havana, knowing the United States? special treatment of Cubans gave him the freedom to rejoin her and marry when the moment was right. Those dreams were dashed on Thursday, when President Obama announced the immediate end of the longstanding policy under which any Cuban who made it to American soil was admitted and placed on a glide path to citizenship. ?Our relationship has been built on two things: love, and the idea that we will create a life together in the U. S.  ?   whether that?s in one year or five,? Mr. Iv\\u00ffn said here on Friday. ?Now I have to realign my entire life plan. ? He is among an untold numbers of Cubans doing so, including what could be thousands stranded midjourney, whether by boat or by land, often through Mexico. Those who arrived at border stations in Arizona, California and Texas on Thursday were let in. Those still on the Mexican side were left to consider whether to try to sneak across or hire smugglers to take them into a country that as of Friday would treat them as illegal entrants, just like those from other countries. Alexander Iglesias Rodr\\u00adguez, 41, a veterinarian who reared cows in Cienfuegos on Cuba?s southern coast, left the country on Wednesday, six weeks after his wife and his son, Gabriel, 16. They flew to Mexico and then crossed the border in Matamoros. He delayed his departure so as not to draw attention from immigration authorities in Cuba and Mexico. He sold his 1956 Pontiac, his   head of cattle and his   house, pulling together about $12, 000. He was in Mexico about to cross into the United States when the order came down. ?So many years dreaming about this,? Mr. Iglesias said. Now he is in limbo, unsure if he should wait or make a stab at seeking asylum in the United States, a request the government does not always grant. ?What do I have in Cuba? Nothing. My wife is in the United States. My son is in the United States. I sold everything I had. I can?t go back. ? Also eliminated on Thursday was a program that allowed Cuban doctors posted to other countries to more easily migrate to America, leaving Ayme Monges, 25, stuck in Bogot\\u00ff, Colombia, on Friday with all her paperwork in order but nowhere to go. ?I got to the embassy this morning and they said, ?You are Cuban? You can?t pass. That program is frozen,?? Dr. Monges, who had been working in Venezuela, said in a phone interview. ?I am stranded here in this country. ? The number of Cubans leaving for America has surged since the two governments resumed relations in late 2014, in expectation that the policy  ?   known as ?wet foot, dry foot? because those caught at sea were sent back but those who made it to dry land were allowed to stay  ?   might end. A senior official with the Department of Homeland Security, who spoke on the condition of anonymity in keeping with agency policy, said the administration decided to end the program immediately to prevent a mass exodus that would risk lives at land and sea. In Cuba, the abrupt change seemed to further divide people along generational lines. Many older Cubans said the decision was a just one that would halt the steady drain of the nation?s citizens  ?   especially educated ones like doctors  ?   to America. One man, selling copies of the   newspaper Granma on the street, said the measure was necessary to stop ?undermining the Cuban government? by enticing people to ?throw their fates to the sea. ? But younger Cubans, for whom the prospect of a life in America offers a glimmer of hope amid economic hardship, were crushed, forced to envision a future with fewer options. Cuban identity, and pride, is in no small part forged by its relationship with the United States, both in the tiny country?s defiance of its bigger neighbor and then in the unique privileges afforded to those who fled and made it to America. To be suddenly placed on equal footing with the millions of others around the world hoping to do the same was an especially hard fall. In Havana, where until recently the internet has been out of reach for most ordinary Cubans, the city?s relatively new   parks have become stations of despair following the announcement. For a nation robbed of connectivity for more than a decade, the sudden surge of digital news  ?   through email, messaging and social media  ?   seemed like a particularly cruel way to find out their special treatment had ended. A few blocks from the American Embassy, in the neighborhood of Vedado, the casual atmosphere changed suddenly as the news began to spread. Visitors checking their phones shared the news with those within shouting distance. One youth yelled to the gathered crowds: ?Have you heard? This screws up all your lives. ? Miguel Alberto Escalona, 24, sat with his wife in a park in Vedado, bewildered. He sent a text to his family in Miami decrying the change. The news also brought to the surface frustrations for young Cubans, especially concerning the new dynamic that an increase in tourism is bringing to the nation. Food prices have surged to meet the demand, while what scant resources the country are redirected to the   outsiders now flooding Cuba, especially Americans. ?I?m totally against the change in the law,? Mr. Escalona wrote to his family. ?Here in Cuba, we have nothing to live for. Our country is for foreigners, not for our people, no wonder people want to leave. ? For years, most Cubans have been willing to overlook that the policy was unfair to other nationalities, especially to Central Americans, many of whom were fleeing violence at home. But for many on Friday, having had the policy and suddenly losing it was somehow worse, especially if you were in the midst of planning an escape. One young man, who was building his own boat to take to America, sat in the Vedado park, stunned. He said he was nearly finished with the boat, and his departure had been imminent. Those plans now dashed, he began browsing the web for a prospective bride, suggesting he would pay up to $3, 000 to any woman willing to marry him and bring him to the United States. ?My plan A was to leave in a boat,? he said with a rueful smile. ?So I guess my plan B is to marry an American woman. ? While Mr. Obama?s announcement was met with chagrin among some groups in Cuba, the government applauded the change in American policy, which they have long complained about, especially the program allowing Cuban doctors to immigrate to the United States. Since the program began 10 years ago, nearly 10, 000 Cuban medical professionals have been approved for residency in the United States. Many of them were Cuban doctors sent on medical missions to friendly countries like Venezuela, a program that critics of the Cuban government likened to human trafficking, since the government took in billions of dollars a year in fees from the doctors? host countries. For those without a career path, the loss of an American escape hatch left them with even fewer employment options. It struck especially hard on those, like Mr. Iv\\u00ffn, with deep ties to family and loved ones in the United States. (He declined to be identified by his full name for fear of reprisal by the Cuban government.) His brother made the trek four years ago, through Mexico, and is now living the American dream: a mortgage, a car and a job that pays him a living wage. Now, Mr. Iv\\u00ffn is left with a   remorse for having not acted sooner. And he wonders if he will ever be reunited with his girlfriend. On Friday morning, he was even having trouble reaching her, given the   communication in Cuba. He checked his phone incessantly, hoping for a text from her. ?With each blow like this, I feel farther and farther away from you,? he typed to her, frustrated about the shaky   connection. Accepting the reality of the new situation, and without a plan, he sent another message: ?I want you to know that no matter what happens, I will always love you. ?\"\n        ],\n        \"semantic_type\": \"\",\n        \"description\": \"\"\n      }\n    }\n  ]\n}"
            }
          },
          "metadata": {},
          "execution_count": 175
        }
      ],
      "source": [
        "news_dataset = news_dataset.drop_duplicates(subset=['article'], keep='first').reset_index(drop=True)\n",
        "news_dataset.head(12)"
      ]
    },
    {
      "cell_type": "markdown",
      "id": "2dcbbed6-f57f-4686-891e-f2b9d6466935",
      "metadata": {
        "id": "2dcbbed6-f57f-4686-891e-f2b9d6466935"
      },
      "source": [
        "### 1.3 Data pre-processing"
      ]
    },
    {
      "cell_type": "code",
      "execution_count": 176,
      "id": "2e2c0aee-9743-46fc-8810-c8072892a0b5",
      "metadata": {
        "id": "2e2c0aee-9743-46fc-8810-c8072892a0b5"
      },
      "outputs": [],
      "source": [
        "nlp = spacy.load('en_core_web_sm')\n",
        "# neuralcoref.add_to_pipe(nlp)\n",
        "\n",
        "\n",
        "def pre_process(data):\n",
        "    stop_words = set(stopwords.words('english'))\n",
        "    stop_words.update([\"This\", \"The\", \"the\"])\n",
        "    s = \" \\[(?=.*\\d).*?\\]\"\n",
        "    # Lemmatization and removal of stopwords\n",
        "    lemmatizer = WordNetLemmatizer()\n",
        "\n",
        "#     print(data)\n",
        "    result = []\n",
        "    for text in data:\n",
        "        doc = nlp(text)\n",
        "        # text = doc._.coref_resolved\n",
        "        # Clean text\n",
        "        # Remove non-ASCII characters\n",
        "        text = ''.join([char for char in text if ord(char) < 128])\n",
        "        # Remove multiple spaces\n",
        "        text = re.sub(r'\\s+', ' ', text)\n",
        "        # Remove question mark problems\n",
        "        text = re.sub(r'(\\s\\?)',' ',text)\n",
        "        text = re.sub(r\"\\b\\?\\b\", \"\\'\", text)\n",
        "        text = re.sub(r\"(,\\?)\",\",\", text)\n",
        "        text = re.sub(r\"\\?+\", \"?\", text)\n",
        "        text = text.strip()\n",
        "        # Lemmatization and removal of stopwords\n",
        "        processed_text = \" \".join([lemmatizer.lemmatize(word) for word in re.sub(s, \"\", text).split() if word.lower() not in stop_words])\n",
        "        result.append(processed_text)\n",
        "    return result"
      ]
    },
    {
      "cell_type": "code",
      "execution_count": 177,
      "id": "d773dd50-b4ea-441c-97ea-d077c2a98e33",
      "metadata": {
        "id": "d773dd50-b4ea-441c-97ea-d077c2a98e33"
      },
      "outputs": [],
      "source": [
        "news_dataset['processed_article'] = pre_process(news_dataset['article'])"
      ]
    },
    {
      "cell_type": "code",
      "execution_count": 178,
      "id": "820cfb36-4b63-4def-be79-4844cbec48a6",
      "metadata": {
        "colab": {
          "base_uri": "https://localhost:8080/",
          "height": 206
        },
        "id": "820cfb36-4b63-4def-be79-4844cbec48a6",
        "outputId": "a43606ec-2247-4e6a-a4e8-e40d4f5f9774"
      },
      "outputs": [
        {
          "output_type": "execute_result",
          "data": {
            "text/plain": [
              "      id             author        date  year month          topic  \\\n",
              "0  17904      Brooks Barnes  23/01/2017  2017     1  entertainment   \n",
              "1  18166  Matt Flegenheimer   2/02/2017  2017     2       business   \n",
              "2  18169    Somini Sengupta   2/02/2017  2017     2       business   \n",
              "3  18055       Emily Palmer  26/01/2017  2017     1      lifestyle   \n",
              "4  17776         Liam Stack  20/01/2017  2017     1  entertainment   \n",
              "\n",
              "                                             article  \\\n",
              "0  Nominations for the 89th Academy Awards will b...   \n",
              "1  WASHINGTON  ?   President Trump, seeming to re...   \n",
              "2  UNITED NATIONS  ?   The new secretary general ...   \n",
              "3  On a chilly October morning, Talea Childs, 4, ...   \n",
              "4  celebrities may be staying away from Donald J....   \n",
              "\n",
              "                                   processed_article  \n",
              "0  Nominations 89th Academy Awards announced Tues...  \n",
              "1  WASHINGTON President Trump, seeming relish fig...  \n",
              "2  UNITED NATIONS new secretary general United Na...  \n",
              "3  chilly October morning, Talea Childs, 4, still...  \n",
              "4  celebrity may staying away Donald J. Trump's i...  "
            ],
            "text/html": [
              "\n",
              "  <div id=\"df-91d2565c-1a23-4e0f-a448-da01ca2b9989\" class=\"colab-df-container\">\n",
              "    <div>\n",
              "<style scoped>\n",
              "    .dataframe tbody tr th:only-of-type {\n",
              "        vertical-align: middle;\n",
              "    }\n",
              "\n",
              "    .dataframe tbody tr th {\n",
              "        vertical-align: top;\n",
              "    }\n",
              "\n",
              "    .dataframe thead th {\n",
              "        text-align: right;\n",
              "    }\n",
              "</style>\n",
              "<table border=\"1\" class=\"dataframe\">\n",
              "  <thead>\n",
              "    <tr style=\"text-align: right;\">\n",
              "      <th></th>\n",
              "      <th>id</th>\n",
              "      <th>author</th>\n",
              "      <th>date</th>\n",
              "      <th>year</th>\n",
              "      <th>month</th>\n",
              "      <th>topic</th>\n",
              "      <th>article</th>\n",
              "      <th>processed_article</th>\n",
              "    </tr>\n",
              "  </thead>\n",
              "  <tbody>\n",
              "    <tr>\n",
              "      <th>0</th>\n",
              "      <td>17904</td>\n",
              "      <td>Brooks Barnes</td>\n",
              "      <td>23/01/2017</td>\n",
              "      <td>2017</td>\n",
              "      <td>1</td>\n",
              "      <td>entertainment</td>\n",
              "      <td>Nominations for the 89th Academy Awards will b...</td>\n",
              "      <td>Nominations 89th Academy Awards announced Tues...</td>\n",
              "    </tr>\n",
              "    <tr>\n",
              "      <th>1</th>\n",
              "      <td>18166</td>\n",
              "      <td>Matt Flegenheimer</td>\n",
              "      <td>2/02/2017</td>\n",
              "      <td>2017</td>\n",
              "      <td>2</td>\n",
              "      <td>business</td>\n",
              "      <td>WASHINGTON  ?   President Trump, seeming to re...</td>\n",
              "      <td>WASHINGTON President Trump, seeming relish fig...</td>\n",
              "    </tr>\n",
              "    <tr>\n",
              "      <th>2</th>\n",
              "      <td>18169</td>\n",
              "      <td>Somini Sengupta</td>\n",
              "      <td>2/02/2017</td>\n",
              "      <td>2017</td>\n",
              "      <td>2</td>\n",
              "      <td>business</td>\n",
              "      <td>UNITED NATIONS  ?   The new secretary general ...</td>\n",
              "      <td>UNITED NATIONS new secretary general United Na...</td>\n",
              "    </tr>\n",
              "    <tr>\n",
              "      <th>3</th>\n",
              "      <td>18055</td>\n",
              "      <td>Emily Palmer</td>\n",
              "      <td>26/01/2017</td>\n",
              "      <td>2017</td>\n",
              "      <td>1</td>\n",
              "      <td>lifestyle</td>\n",
              "      <td>On a chilly October morning, Talea Childs, 4, ...</td>\n",
              "      <td>chilly October morning, Talea Childs, 4, still...</td>\n",
              "    </tr>\n",
              "    <tr>\n",
              "      <th>4</th>\n",
              "      <td>17776</td>\n",
              "      <td>Liam Stack</td>\n",
              "      <td>20/01/2017</td>\n",
              "      <td>2017</td>\n",
              "      <td>1</td>\n",
              "      <td>entertainment</td>\n",
              "      <td>celebrities may be staying away from Donald J....</td>\n",
              "      <td>celebrity may staying away Donald J. Trump's i...</td>\n",
              "    </tr>\n",
              "  </tbody>\n",
              "</table>\n",
              "</div>\n",
              "    <div class=\"colab-df-buttons\">\n",
              "\n",
              "  <div class=\"colab-df-container\">\n",
              "    <button class=\"colab-df-convert\" onclick=\"convertToInteractive('df-91d2565c-1a23-4e0f-a448-da01ca2b9989')\"\n",
              "            title=\"Convert this dataframe to an interactive table.\"\n",
              "            style=\"display:none;\">\n",
              "\n",
              "  <svg xmlns=\"http://www.w3.org/2000/svg\" height=\"24px\" viewBox=\"0 -960 960 960\">\n",
              "    <path d=\"M120-120v-720h720v720H120Zm60-500h600v-160H180v160Zm220 220h160v-160H400v160Zm0 220h160v-160H400v160ZM180-400h160v-160H180v160Zm440 0h160v-160H620v160ZM180-180h160v-160H180v160Zm440 0h160v-160H620v160Z\"/>\n",
              "  </svg>\n",
              "    </button>\n",
              "\n",
              "  <style>\n",
              "    .colab-df-container {\n",
              "      display:flex;\n",
              "      gap: 12px;\n",
              "    }\n",
              "\n",
              "    .colab-df-convert {\n",
              "      background-color: #E8F0FE;\n",
              "      border: none;\n",
              "      border-radius: 50%;\n",
              "      cursor: pointer;\n",
              "      display: none;\n",
              "      fill: #1967D2;\n",
              "      height: 32px;\n",
              "      padding: 0 0 0 0;\n",
              "      width: 32px;\n",
              "    }\n",
              "\n",
              "    .colab-df-convert:hover {\n",
              "      background-color: #E2EBFA;\n",
              "      box-shadow: 0px 1px 2px rgba(60, 64, 67, 0.3), 0px 1px 3px 1px rgba(60, 64, 67, 0.15);\n",
              "      fill: #174EA6;\n",
              "    }\n",
              "\n",
              "    .colab-df-buttons div {\n",
              "      margin-bottom: 4px;\n",
              "    }\n",
              "\n",
              "    [theme=dark] .colab-df-convert {\n",
              "      background-color: #3B4455;\n",
              "      fill: #D2E3FC;\n",
              "    }\n",
              "\n",
              "    [theme=dark] .colab-df-convert:hover {\n",
              "      background-color: #434B5C;\n",
              "      box-shadow: 0px 1px 3px 1px rgba(0, 0, 0, 0.15);\n",
              "      filter: drop-shadow(0px 1px 2px rgba(0, 0, 0, 0.3));\n",
              "      fill: #FFFFFF;\n",
              "    }\n",
              "  </style>\n",
              "\n",
              "    <script>\n",
              "      const buttonEl =\n",
              "        document.querySelector('#df-91d2565c-1a23-4e0f-a448-da01ca2b9989 button.colab-df-convert');\n",
              "      buttonEl.style.display =\n",
              "        google.colab.kernel.accessAllowed ? 'block' : 'none';\n",
              "\n",
              "      async function convertToInteractive(key) {\n",
              "        const element = document.querySelector('#df-91d2565c-1a23-4e0f-a448-da01ca2b9989');\n",
              "        const dataTable =\n",
              "          await google.colab.kernel.invokeFunction('convertToInteractive',\n",
              "                                                    [key], {});\n",
              "        if (!dataTable) return;\n",
              "\n",
              "        const docLinkHtml = 'Like what you see? Visit the ' +\n",
              "          '<a target=\"_blank\" href=https://colab.research.google.com/notebooks/data_table.ipynb>data table notebook</a>'\n",
              "          + ' to learn more about interactive tables.';\n",
              "        element.innerHTML = '';\n",
              "        dataTable['output_type'] = 'display_data';\n",
              "        await google.colab.output.renderOutput(dataTable, element);\n",
              "        const docLink = document.createElement('div');\n",
              "        docLink.innerHTML = docLinkHtml;\n",
              "        element.appendChild(docLink);\n",
              "      }\n",
              "    </script>\n",
              "  </div>\n",
              "\n",
              "\n",
              "<div id=\"df-6609317c-e63d-4fce-a356-e70ce51454c2\">\n",
              "  <button class=\"colab-df-quickchart\" onclick=\"quickchart('df-6609317c-e63d-4fce-a356-e70ce51454c2')\"\n",
              "            title=\"Suggest charts\"\n",
              "            style=\"display:none;\">\n",
              "\n",
              "<svg xmlns=\"http://www.w3.org/2000/svg\" height=\"24px\"viewBox=\"0 0 24 24\"\n",
              "     width=\"24px\">\n",
              "    <g>\n",
              "        <path d=\"M19 3H5c-1.1 0-2 .9-2 2v14c0 1.1.9 2 2 2h14c1.1 0 2-.9 2-2V5c0-1.1-.9-2-2-2zM9 17H7v-7h2v7zm4 0h-2V7h2v10zm4 0h-2v-4h2v4z\"/>\n",
              "    </g>\n",
              "</svg>\n",
              "  </button>\n",
              "\n",
              "<style>\n",
              "  .colab-df-quickchart {\n",
              "      --bg-color: #E8F0FE;\n",
              "      --fill-color: #1967D2;\n",
              "      --hover-bg-color: #E2EBFA;\n",
              "      --hover-fill-color: #174EA6;\n",
              "      --disabled-fill-color: #AAA;\n",
              "      --disabled-bg-color: #DDD;\n",
              "  }\n",
              "\n",
              "  [theme=dark] .colab-df-quickchart {\n",
              "      --bg-color: #3B4455;\n",
              "      --fill-color: #D2E3FC;\n",
              "      --hover-bg-color: #434B5C;\n",
              "      --hover-fill-color: #FFFFFF;\n",
              "      --disabled-bg-color: #3B4455;\n",
              "      --disabled-fill-color: #666;\n",
              "  }\n",
              "\n",
              "  .colab-df-quickchart {\n",
              "    background-color: var(--bg-color);\n",
              "    border: none;\n",
              "    border-radius: 50%;\n",
              "    cursor: pointer;\n",
              "    display: none;\n",
              "    fill: var(--fill-color);\n",
              "    height: 32px;\n",
              "    padding: 0;\n",
              "    width: 32px;\n",
              "  }\n",
              "\n",
              "  .colab-df-quickchart:hover {\n",
              "    background-color: var(--hover-bg-color);\n",
              "    box-shadow: 0 1px 2px rgba(60, 64, 67, 0.3), 0 1px 3px 1px rgba(60, 64, 67, 0.15);\n",
              "    fill: var(--button-hover-fill-color);\n",
              "  }\n",
              "\n",
              "  .colab-df-quickchart-complete:disabled,\n",
              "  .colab-df-quickchart-complete:disabled:hover {\n",
              "    background-color: var(--disabled-bg-color);\n",
              "    fill: var(--disabled-fill-color);\n",
              "    box-shadow: none;\n",
              "  }\n",
              "\n",
              "  .colab-df-spinner {\n",
              "    border: 2px solid var(--fill-color);\n",
              "    border-color: transparent;\n",
              "    border-bottom-color: var(--fill-color);\n",
              "    animation:\n",
              "      spin 1s steps(1) infinite;\n",
              "  }\n",
              "\n",
              "  @keyframes spin {\n",
              "    0% {\n",
              "      border-color: transparent;\n",
              "      border-bottom-color: var(--fill-color);\n",
              "      border-left-color: var(--fill-color);\n",
              "    }\n",
              "    20% {\n",
              "      border-color: transparent;\n",
              "      border-left-color: var(--fill-color);\n",
              "      border-top-color: var(--fill-color);\n",
              "    }\n",
              "    30% {\n",
              "      border-color: transparent;\n",
              "      border-left-color: var(--fill-color);\n",
              "      border-top-color: var(--fill-color);\n",
              "      border-right-color: var(--fill-color);\n",
              "    }\n",
              "    40% {\n",
              "      border-color: transparent;\n",
              "      border-right-color: var(--fill-color);\n",
              "      border-top-color: var(--fill-color);\n",
              "    }\n",
              "    60% {\n",
              "      border-color: transparent;\n",
              "      border-right-color: var(--fill-color);\n",
              "    }\n",
              "    80% {\n",
              "      border-color: transparent;\n",
              "      border-right-color: var(--fill-color);\n",
              "      border-bottom-color: var(--fill-color);\n",
              "    }\n",
              "    90% {\n",
              "      border-color: transparent;\n",
              "      border-bottom-color: var(--fill-color);\n",
              "    }\n",
              "  }\n",
              "</style>\n",
              "\n",
              "  <script>\n",
              "    async function quickchart(key) {\n",
              "      const quickchartButtonEl =\n",
              "        document.querySelector('#' + key + ' button');\n",
              "      quickchartButtonEl.disabled = true;  // To prevent multiple clicks.\n",
              "      quickchartButtonEl.classList.add('colab-df-spinner');\n",
              "      try {\n",
              "        const charts = await google.colab.kernel.invokeFunction(\n",
              "            'suggestCharts', [key], {});\n",
              "      } catch (error) {\n",
              "        console.error('Error during call to suggestCharts:', error);\n",
              "      }\n",
              "      quickchartButtonEl.classList.remove('colab-df-spinner');\n",
              "      quickchartButtonEl.classList.add('colab-df-quickchart-complete');\n",
              "    }\n",
              "    (() => {\n",
              "      let quickchartButtonEl =\n",
              "        document.querySelector('#df-6609317c-e63d-4fce-a356-e70ce51454c2 button');\n",
              "      quickchartButtonEl.style.display =\n",
              "        google.colab.kernel.accessAllowed ? 'block' : 'none';\n",
              "    })();\n",
              "  </script>\n",
              "</div>\n",
              "\n",
              "    </div>\n",
              "  </div>\n"
            ],
            "application/vnd.google.colaboratory.intrinsic+json": {
              "type": "dataframe",
              "variable_name": "news_dataset",
              "summary": "{\n  \"name\": \"news_dataset\",\n  \"rows\": 101,\n  \"fields\": [\n    {\n      \"column\": \"id\",\n      \"properties\": {\n        \"dtype\": \"number\",\n        \"std\": 340,\n        \"min\": 17294,\n        \"max\": 18463,\n        \"num_unique_values\": 101,\n        \"samples\": [\n          17663,\n          17361,\n          18058\n        ],\n        \"semantic_type\": \"\",\n        \"description\": \"\"\n      }\n    },\n    {\n      \"column\": \"author\",\n      \"properties\": {\n        \"dtype\": \"string\",\n        \"num_unique_values\": 93,\n        \"samples\": [\n          \"Mike Hale\",\n          \"Emmarie Huetteman\",\n          \"Corinna da Fonseca-Wollheim\"\n        ],\n        \"semantic_type\": \"\",\n        \"description\": \"\"\n      }\n    },\n    {\n      \"column\": \"date\",\n      \"properties\": {\n        \"dtype\": \"object\",\n        \"num_unique_values\": 39,\n        \"samples\": [\n          \"12/02/2017\",\n          \"22/01/2017\",\n          \"5/02/2017\"\n        ],\n        \"semantic_type\": \"\",\n        \"description\": \"\"\n      }\n    },\n    {\n      \"column\": \"year\",\n      \"properties\": {\n        \"dtype\": \"object\",\n        \"num_unique_values\": 1,\n        \"samples\": [\n          \"2017\"\n        ],\n        \"semantic_type\": \"\",\n        \"description\": \"\"\n      }\n    },\n    {\n      \"column\": \"month\",\n      \"properties\": {\n        \"dtype\": \"category\",\n        \"num_unique_values\": 3,\n        \"samples\": [\n          \"1\"\n        ],\n        \"semantic_type\": \"\",\n        \"description\": \"\"\n      }\n    },\n    {\n      \"column\": \"topic\",\n      \"properties\": {\n        \"dtype\": \"category\",\n        \"num_unique_values\": 9,\n        \"samples\": [\n          \"law\"\n        ],\n        \"semantic_type\": \"\",\n        \"description\": \"\"\n      }\n    },\n    {\n      \"column\": \"article\",\n      \"properties\": {\n        \"dtype\": \"string\",\n        \"num_unique_values\": 101,\n        \"samples\": [\n          \"HAVANA  ?   Andr?s Iv\\u00ffn and his girlfriend grew up in Cuba but had long planned their future in the United States. She left four months ago to find work and made it to Miami, where she was legally welcomed. He stayed in Havana, knowing the United States? special treatment of Cubans gave him the freedom to rejoin her and marry when the moment was right. Those dreams were dashed on Thursday, when President Obama announced the immediate end of the longstanding policy under which any Cuban who made it to American soil was admitted and placed on a glide path to citizenship. ?Our relationship has been built on two things: love, and the idea that we will create a life together in the U. S.  ?   whether that?s in one year or five,? Mr. Iv\\u00ffn said here on Friday. ?Now I have to realign my entire life plan. ? He is among an untold numbers of Cubans doing so, including what could be thousands stranded midjourney, whether by boat or by land, often through Mexico. Those who arrived at border stations in Arizona, California and Texas on Thursday were let in. Those still on the Mexican side were left to consider whether to try to sneak across or hire smugglers to take them into a country that as of Friday would treat them as illegal entrants, just like those from other countries. Alexander Iglesias Rodr\\u00adguez, 41, a veterinarian who reared cows in Cienfuegos on Cuba?s southern coast, left the country on Wednesday, six weeks after his wife and his son, Gabriel, 16. They flew to Mexico and then crossed the border in Matamoros. He delayed his departure so as not to draw attention from immigration authorities in Cuba and Mexico. He sold his 1956 Pontiac, his   head of cattle and his   house, pulling together about $12, 000. He was in Mexico about to cross into the United States when the order came down. ?So many years dreaming about this,? Mr. Iglesias said. Now he is in limbo, unsure if he should wait or make a stab at seeking asylum in the United States, a request the government does not always grant. ?What do I have in Cuba? Nothing. My wife is in the United States. My son is in the United States. I sold everything I had. I can?t go back. ? Also eliminated on Thursday was a program that allowed Cuban doctors posted to other countries to more easily migrate to America, leaving Ayme Monges, 25, stuck in Bogot\\u00ff, Colombia, on Friday with all her paperwork in order but nowhere to go. ?I got to the embassy this morning and they said, ?You are Cuban? You can?t pass. That program is frozen,?? Dr. Monges, who had been working in Venezuela, said in a phone interview. ?I am stranded here in this country. ? The number of Cubans leaving for America has surged since the two governments resumed relations in late 2014, in expectation that the policy  ?   known as ?wet foot, dry foot? because those caught at sea were sent back but those who made it to dry land were allowed to stay  ?   might end. A senior official with the Department of Homeland Security, who spoke on the condition of anonymity in keeping with agency policy, said the administration decided to end the program immediately to prevent a mass exodus that would risk lives at land and sea. In Cuba, the abrupt change seemed to further divide people along generational lines. Many older Cubans said the decision was a just one that would halt the steady drain of the nation?s citizens  ?   especially educated ones like doctors  ?   to America. One man, selling copies of the   newspaper Granma on the street, said the measure was necessary to stop ?undermining the Cuban government? by enticing people to ?throw their fates to the sea. ? But younger Cubans, for whom the prospect of a life in America offers a glimmer of hope amid economic hardship, were crushed, forced to envision a future with fewer options. Cuban identity, and pride, is in no small part forged by its relationship with the United States, both in the tiny country?s defiance of its bigger neighbor and then in the unique privileges afforded to those who fled and made it to America. To be suddenly placed on equal footing with the millions of others around the world hoping to do the same was an especially hard fall. In Havana, where until recently the internet has been out of reach for most ordinary Cubans, the city?s relatively new   parks have become stations of despair following the announcement. For a nation robbed of connectivity for more than a decade, the sudden surge of digital news  ?   through email, messaging and social media  ?   seemed like a particularly cruel way to find out their special treatment had ended. A few blocks from the American Embassy, in the neighborhood of Vedado, the casual atmosphere changed suddenly as the news began to spread. Visitors checking their phones shared the news with those within shouting distance. One youth yelled to the gathered crowds: ?Have you heard? This screws up all your lives. ? Miguel Alberto Escalona, 24, sat with his wife in a park in Vedado, bewildered. He sent a text to his family in Miami decrying the change. The news also brought to the surface frustrations for young Cubans, especially concerning the new dynamic that an increase in tourism is bringing to the nation. Food prices have surged to meet the demand, while what scant resources the country are redirected to the   outsiders now flooding Cuba, especially Americans. ?I?m totally against the change in the law,? Mr. Escalona wrote to his family. ?Here in Cuba, we have nothing to live for. Our country is for foreigners, not for our people, no wonder people want to leave. ? For years, most Cubans have been willing to overlook that the policy was unfair to other nationalities, especially to Central Americans, many of whom were fleeing violence at home. But for many on Friday, having had the policy and suddenly losing it was somehow worse, especially if you were in the midst of planning an escape. One young man, who was building his own boat to take to America, sat in the Vedado park, stunned. He said he was nearly finished with the boat, and his departure had been imminent. Those plans now dashed, he began browsing the web for a prospective bride, suggesting he would pay up to $3, 000 to any woman willing to marry him and bring him to the United States. ?My plan A was to leave in a boat,? he said with a rueful smile. ?So I guess my plan B is to marry an American woman. ? While Mr. Obama?s announcement was met with chagrin among some groups in Cuba, the government applauded the change in American policy, which they have long complained about, especially the program allowing Cuban doctors to immigrate to the United States. Since the program began 10 years ago, nearly 10, 000 Cuban medical professionals have been approved for residency in the United States. Many of them were Cuban doctors sent on medical missions to friendly countries like Venezuela, a program that critics of the Cuban government likened to human trafficking, since the government took in billions of dollars a year in fees from the doctors? host countries. For those without a career path, the loss of an American escape hatch left them with even fewer employment options. It struck especially hard on those, like Mr. Iv\\u00ffn, with deep ties to family and loved ones in the United States. (He declined to be identified by his full name for fear of reprisal by the Cuban government.) His brother made the trek four years ago, through Mexico, and is now living the American dream: a mortgage, a car and a job that pays him a living wage. Now, Mr. Iv\\u00ffn is left with a   remorse for having not acted sooner. And he wonders if he will ever be reunited with his girlfriend. On Friday morning, he was even having trouble reaching her, given the   communication in Cuba. He checked his phone incessantly, hoping for a text from her. ?With each blow like this, I feel farther and farther away from you,? he typed to her, frustrated about the shaky   connection. Accepting the reality of the new situation, and without a plan, he sent another message: ?I want you to know that no matter what happens, I will always love you. ?\"\n        ],\n        \"semantic_type\": \"\",\n        \"description\": \"\"\n      }\n    },\n    {\n      \"column\": \"processed_article\",\n      \"properties\": {\n        \"dtype\": \"string\",\n        \"num_unique_values\": 101,\n        \"samples\": [\n          \"HAVANA Andr's Ivn girlfriend grew Cuba long planned future United States. left four month ago find work made Miami, legally welcomed. stayed Havana, knowing United States? special treatment Cubans gave freedom rejoin marry moment right. dream dashed Thursday, President Obama announced immediate end longstanding policy Cuban made American soil admitted placed glide path citizenship. relationship built two things: love, idea create life together U. S. whether that's one year five, Mr. Ivn said Friday. realign entire life plan. among untold number Cubans so, including could thousand stranded midjourney, whether boat land, often Mexico. arrived border station Arizona, California Texas Thursday let in. still Mexican side left consider whether try sneak across hire smuggler take country Friday would treat illegal entrants, like countries. Alexander Iglesias Rodrguez, 41, veterinarian reared cow Cienfuegos Cuba's southern coast, left country Wednesday, six week wife son, Gabriel, 16. flew Mexico crossed border Matamoros. delayed departure draw attention immigration authority Cuba Mexico. sold 1956 Pontiac, head cattle house, pulling together $12, 000. Mexico cross United States order came down. many year dreaming this, Mr. Iglesias said. limbo, unsure wait make stab seeking asylum United States, request government always grant. Cuba? Nothing. wife United States. son United States. sold everything had. can't go back. Also eliminated Thursday program allowed Cuban doctor posted country easily migrate America, leaving Ayme Monges, 25, stuck Bogot, Colombia, Friday paperwork order nowhere go. got embassy morning said, Cuban? can't pass. program frozen,? Dr. Monges, working Venezuela, said phone interview. stranded country. number Cubans leaving America surged since two government resumed relation late 2014, expectation policy known wet foot, dry foot? caught sea sent back made dry land allowed stay might end. senior official Department Homeland Security, spoke condition anonymity keeping agency policy, said administration decided end program immediately prevent mass exodus would risk life land sea. Cuba, abrupt change seemed divide people along generational lines. Many older Cubans said decision one would halt steady drain nation's citizen especially educated one like doctor America. One man, selling copy newspaper Granma street, said measure necessary stop undermining Cuban government? enticing people throw fate sea. younger Cubans, prospect life America offer glimmer hope amid economic hardship, crushed, forced envision future fewer options. Cuban identity, pride, small part forged relationship United States, tiny country's defiance bigger neighbor unique privilege afforded fled made America. suddenly placed equal footing million others around world hoping especially hard fall. Havana, recently internet reach ordinary Cubans, city's relatively new park become station despair following announcement. nation robbed connectivity decade, sudden surge digital news email, messaging social medium seemed like particularly cruel way find special treatment ended. block American Embassy, neighborhood Vedado, casual atmosphere changed suddenly news began spread. Visitors checking phone shared news within shouting distance. One youth yelled gathered crowds: heard? screw lives. Miguel Alberto Escalona, 24, sat wife park Vedado, bewildered. sent text family Miami decrying change. news also brought surface frustration young Cubans, especially concerning new dynamic increase tourism bringing nation. Food price surged meet demand, scant resource country redirected outsider flooding Cuba, especially Americans. I'm totally change law, Mr. Escalona wrote family. Cuba, nothing live for. country foreigners, people, wonder people want leave. years, Cubans willing overlook policy unfair nationalities, especially Central Americans, many fleeing violence home. many Friday, policy suddenly losing somehow worse, especially midst planning escape. One young man, building boat take America, sat Vedado park, stunned. said nearly finished boat, departure imminent. plan dashed, began browsing web prospective bride, suggesting would pay $3, 000 woman willing marry bring United States. plan leave boat, said rueful smile. guess plan B marry American woman. Mr. Obama's announcement met chagrin among group Cuba, government applauded change American policy, long complained about, especially program allowing Cuban doctor immigrate United States. Since program began 10 year ago, nearly 10, 000 Cuban medical professional approved residency United States. Many Cuban doctor sent medical mission friendly country like Venezuela, program critic Cuban government likened human trafficking, since government took billion dollar year fee doctors? host countries. without career path, loss American escape hatch left even fewer employment options. struck especially hard those, like Mr. Ivn, deep tie family loved one United States. (He declined identified full name fear reprisal Cuban government.) brother made trek four year ago, Mexico, living American dream: mortgage, car job pay living wage. Now, Mr. Ivn left remorse acted sooner. wonder ever reunited girlfriend. Friday morning, even trouble reaching her, given communication Cuba. checked phone incessantly, hoping text her. blow like this, feel farther farther away you, typed her, frustrated shaky connection. Accepting reality new situation, without plan, sent another message: want know matter happens, always love you.\"\n        ],\n        \"semantic_type\": \"\",\n        \"description\": \"\"\n      }\n    }\n  ]\n}"
            }
          },
          "metadata": {},
          "execution_count": 178
        }
      ],
      "source": [
        "news_dataset.head()"
      ]
    },
    {
      "cell_type": "markdown",
      "id": "173a041b-82b8-4302-908a-45d6bc6b4774",
      "metadata": {
        "id": "173a041b-82b8-4302-908a-45d6bc6b4774"
      },
      "source": [
        "#### 2 Classical retrivel"
      ]
    },
    {
      "cell_type": "code",
      "execution_count": 179,
      "id": "2bcb4141-bd9c-476b-9b6b-0c392fb41dc3",
      "metadata": {
        "id": "2bcb4141-bd9c-476b-9b6b-0c392fb41dc3"
      },
      "outputs": [],
      "source": [
        "nlp_md = spacy.load(\"en_core_web_md\")\n",
        "\n",
        "class TextMatchingUtility:\n",
        "    def __init__(self, dataset):\n",
        "        self.data = dataset  # Dataset\n",
        "        self.nlp = spacy.load(\"en_core_web_sm\")\n",
        "\n",
        "    def preprocess_query(self, query):\n",
        "        # Regular expression to match text patterns\n",
        "        s = \" \\[(?=.*\\d).*?\\]\"\n",
        "        # Removing stopwords and Lemmatization\n",
        "        stop_words = stopwords.words('english')\n",
        "        stop_words.extend([\"This\", \"The\", \"the\"])\n",
        "        lemmatizer = WordNetLemmatizer()\n",
        "        result = [\" \".join([lemmatizer.lemmatize(word) for word in re.sub(s, \"\", query).split() if word not in stop_words])]\n",
        "        return result\n",
        "\n",
        "\n",
        "    def tf_idf_score(self, query, articles):\n",
        "        vectorizer = TfidfVectorizer()\n",
        "        # Convert to word vector\n",
        "        articles_wv = vectorizer.fit_transform(articles)\n",
        "        # Convert to word vector\n",
        "        query_wv = vectorizer.transform([query])\n",
        "        # Calculate similarity\n",
        "        similarities = cosine_similarity(query_wv, articles_wv)[0]\n",
        "        return similarities\n",
        "\n",
        "    def spacy_score(self, query, articles):\n",
        "        # Convert to word vector\n",
        "        query_nlp = nlp_md(str(query))\n",
        "        # Convert to word vector\n",
        "        articles_nlp = [nlp_md(article) for article in articles]\n",
        "        # Calculate similarity\n",
        "        similarities = [query_nlp.similarity(article_nlp) for article_nlp in articles_nlp]\n",
        "        return similarities\n",
        "\n",
        "    def get_best_sentences(self, query, article_id, word_vector, top_n=3):\n",
        "        article = self.data.loc[self.data['id'] == article_id, 'processed_article'].iloc[0]\n",
        "        # Convert text into sentences\n",
        "        sentences_clean = tokenize.sent_tokenize(article)\n",
        "        # Calculate similarity\n",
        "        if word_vector == \"tf-idf\":\n",
        "            similarities = self.tf_idf_score(query, sentences_clean)\n",
        "        elif word_vector == \"spaCy\":\n",
        "            similarities = self.spacy_score(query, sentences_clean)\n",
        "        # Get the indices of top N scores\n",
        "        top_indices = np.argsort(similarities)[::-1][:top_n]\n",
        "        # Get the top N sentences and their scores\n",
        "        top_sentences = [(sentences_clean[i], similarities[i]) for i in top_indices]\n",
        "        return top_sentences\n",
        "\n",
        "    def get_best_sentence(self, query, article_id, word_vector):\n",
        "        article = self.data.loc[self.data['id'] == article_id, 'processed_article'].iloc[0]\n",
        "        # Convert text into sentences\n",
        "        sentences_clean = tokenize.sent_tokenize(article)\n",
        "        # Calculate similarity\n",
        "        if word_vector == \"tf-idf\":\n",
        "            similarities = self.tf_idf_score(query, sentences_clean)\n",
        "        elif word_vector == \"spaCy\":\n",
        "            similarities = self.spacy_score(query, sentences_clean)\n",
        "\n",
        "        # Get the maximum score index position\n",
        "        best_idx = np.array(similarities).argmax()\n",
        "        # Get the best score\n",
        "        best_score = max(similarities)\n",
        "        # Get original data\n",
        "        for j in range(len(self.data['id'])):\n",
        "            if self.data['id'][j] == article_id:\n",
        "                topic = self.data['article'][j]\n",
        "        sentences_topic = tokenize.sent_tokenize(topic)\n",
        "        answer = sentences_topic[best_idx]\n",
        "        print(\"Article ID \", article_id)\n",
        "        print(\"Question:\", query)\n",
        "        if best_score < 0.3:\n",
        "            print(\"No answer found\")\n",
        "        else:\n",
        "            print(\"Answer:\", answer)\n",
        "            print(\"Score\", best_score,\"\\n\")"
      ]
    },
    {
      "cell_type": "markdown",
      "id": "180cbb60-87e5-4a14-9d21-b3878e6f58bf",
      "metadata": {
        "id": "180cbb60-87e5-4a14-9d21-b3878e6f58bf"
      },
      "source": [
        "### 2.1 tf-idf"
      ]
    },
    {
      "cell_type": "code",
      "execution_count": 180,
      "id": "e9a6d3ac-7791-4227-8f55-5b7d496fc184",
      "metadata": {
        "colab": {
          "base_uri": "https://localhost:8080/"
        },
        "id": "e9a6d3ac-7791-4227-8f55-5b7d496fc184",
        "outputId": "31d3718a-c486-4cd4-fb67-478178393b8c"
      },
      "outputs": [
        {
          "output_type": "stream",
          "name": "stdout",
          "text": [
            "Question: Who is the vice chairman of Samsung?\n",
            "Answer 1: de facto leader, Jay Y. Lee, vice chairman Samsung, questioned Thursday, according special prosecutor's office, recommended also investigated suspicion perjury.\n",
            "Score: 0.36449756195127636\n",
            "\n",
            "Answer 2: Mr. Lee effectively run Samsung, South Korea's largest conglomerate son chairman, Lee incapacitated health problems.\n",
            "Score: 0.1805434411681926\n",
            "\n",
            "Answer 3: Moon chairman pension fund, arrested last month charge illegally pressured fund back merger South Korea's health welfare minister.\n",
            "Score: 0.12484468335180934\n",
            "\n"
          ]
        }
      ],
      "source": [
        "tm_utility = TextMatchingUtility(news_dataset)\n",
        "\n",
        "# Sample question\n",
        "question = \"Who is the vice chairman of Samsung?\"\n",
        "article_id = 17574\n",
        "word_vector = 'tf-idf'\n",
        "\n",
        "top_results = tm_utility.get_best_sentences(question, article_id, word_vector, top_n=3)\n",
        "\n",
        "print(\"Question:\", question)\n",
        "for i, (answer, score) in enumerate(top_results, 1):\n",
        "    print(f\"Answer {i}: {answer}\")\n",
        "    print(\"Score:\", score)\n",
        "    print()"
      ]
    },
    {
      "cell_type": "markdown",
      "id": "11e91057-d03f-464c-b23d-7644b688913a",
      "metadata": {
        "id": "11e91057-d03f-464c-b23d-7644b688913a"
      },
      "source": [
        "### 2.2 tf-idf"
      ]
    },
    {
      "cell_type": "code",
      "execution_count": 181,
      "id": "f99598df-8b99-466c-83cc-95a86618fdde",
      "metadata": {
        "colab": {
          "base_uri": "https://localhost:8080/"
        },
        "id": "f99598df-8b99-466c-83cc-95a86618fdde",
        "outputId": "c7255f50-8701-420d-a139-2d1e20e8de10"
      },
      "outputs": [
        {
          "output_type": "stream",
          "name": "stdout",
          "text": [
            "Question: Who is the vice chairman of Samsung?\n",
            "Answer 1: Investigators special prosecutor's office questioned senior Samsung executive suspect bribery accusations.\n",
            "Score: 0.6452350002474918\n",
            "\n",
            "Answer 2: national pension fund's support crucial merger, analyst said helped Mr. Lee inherit control Samsung father.\n",
            "Score: 0.6324615702928353\n",
            "\n",
            "Answer 3: email contained information financial support provided Samsung, prosecutor's office said.\n",
            "Score: 0.6281309632782177\n",
            "\n"
          ]
        }
      ],
      "source": [
        "tm_utility = TextMatchingUtility(news_dataset)\n",
        "\n",
        "# Sample question\n",
        "question = \"Who is the vice chairman of Samsung?\"\n",
        "article_id = 17574\n",
        "word_vector = 'spaCy'\n",
        "\n",
        "top_results = tm_utility.get_best_sentences(question, article_id, word_vector, top_n=3)\n",
        "\n",
        "print(\"Question:\", question)\n",
        "for i, (answer, score) in enumerate(top_results, 1):\n",
        "    print(f\"Answer {i}: {answer}\")\n",
        "    print(\"Score:\", score)\n",
        "    print()"
      ]
    },
    {
      "cell_type": "markdown",
      "id": "9fa8c3bc-ae47-418c-9cf8-ce3a9b4c548d",
      "metadata": {
        "id": "9fa8c3bc-ae47-418c-9cf8-ce3a9b4c548d"
      },
      "source": [
        "### Sample Questions"
      ]
    },
    {
      "cell_type": "code",
      "execution_count": 182,
      "id": "f811a17c-cfd6-4a31-8af1-c0debaf1b335",
      "metadata": {
        "id": "f811a17c-cfd6-4a31-8af1-c0debaf1b335"
      },
      "outputs": [],
      "source": [
        " # Test questions in one passage\n",
        "test_questions = [\n",
        "    {'query': 'Who is the vice chairman of Samsung?', 'answer': 'Jay Y. Lee'},\n",
        "    {'query': 'Who is the de facto head of Samsung being questioned for bribery?', 'answer': 'Jay Y. Lee'},\n",
        "    {'query': 'What scandal led to President Park\\'s impeachment?', 'answer': 'corruption scandal'},\n",
        "    {'query': 'What is the name of Samsung\\'s vice chairman?', 'answer': 'Jay Y. Lee'},\n",
        "    {'query': 'What is the name of the special prosecutor investigating the corruption scandal?', 'answer': '[SEP]'},\n",
        "    {'query': 'Who is on trial at the Constitutional Court?', 'answer': 'Ms. Park'},\n",
        "    {'query': 'What is the name of the special prosecutor\\'s office spokesman?', 'answer': 'Lee'},\n",
        "    {'query': 'What charges were filed against Ms. Choi by state prosecutors?', 'answer': 'coercing 53 big businesses'},\n",
        "    {'query': 'What organization\\'s support was crucial for the merger of two Samsung affiliates?', 'answer': 'National Pension Service'},\n",
        "    {'query': 'What amount did Samsung contribute to Ms. Choi\\'s winter sports program?', 'answer': '$1.3 million'}\n",
        "    ]"
      ]
    },
    {
      "cell_type": "code",
      "source": [
        "test_questions_all = [\n",
        "    {'query': 'What movie is seen as a leading contender for Best Picture at the 89th Academy Awards?', 'answer': 'Moonlight', 'passage_id': 17904},  # article = 17904\n",
        "    {'query': 'Who is President Trump encouraging to invoke the nuclear option regarding the confirmation of his nominee to the Supreme Court?', 'answer': 'Mitch McConnell', 'passage_id': 18166},  # article 18166\n",
        "    {'query': 'What tactic did President Trump suggest Senate Majority Leader Mitch McConnell use to confirm Neil Gorsuch to the Supreme Court?', 'answer': 'Nuclear option', 'passage_id': 18166},  # article 18166\n",
        "    {'query': \"What is the name of Talea's mother?\", 'answer': 'Trenicia', 'passage_id': 18055},  # 18055\n",
        "    {'query': 'Who is the Roman Catholic Archbishop of New York?', 'answer': 'Cardinal Dolan', 'passage_id': 17776},  # article 17776\n",
        "    {'query': \"How many religious leaders are scheduled to participate in Donald J. Trump's inauguration ceremony?\", 'answer': 'Six', 'passage_id': 17776},  # 17776\n",
        "    {'query': 'What is the name of the atoll where Tim Snider and other veterans were tasked with cleaning up nuclear fallout?', 'answer': 'Enewetak Atoll', 'passage_id': 18079},  # 18079\n",
        "    {'query': \"What is the biggest problem identified by Energy Department reports regarding the cleanup of Enewetak Atoll?\", 'answer': 'Runit Island', 'passage_id': 17895},  # 17895\n",
        "    {'query': 'According to Bonsor, what can travelers do to avoid feeling overwhelmed in large cities?', 'answer': 'Choose smaller cities', 'passage_id': 18253},  # 18253\n",
        "    {'query': 'What amount did Samsung contribute to Ms. Choi\\'s winter sports program?', 'answer': '$1.3 million', 'passage_id': 17574}  # 17574\n",
        "]\n"
      ],
      "metadata": {
        "id": "Jz1ShgMhDMYz"
      },
      "id": "Jz1ShgMhDMYz",
      "execution_count": 183,
      "outputs": []
    },
    {
      "cell_type": "code",
      "execution_count": 184,
      "id": "95ba4fc0-1ba8-48a1-b172-20381d0b1762",
      "metadata": {
        "id": "95ba4fc0-1ba8-48a1-b172-20381d0b1762"
      },
      "outputs": [],
      "source": [
        "class TestUtility:\n",
        "    def __init__(self, text_matching_utility, test_questions):\n",
        "        self.text_matching_utility = text_matching_utility\n",
        "        self.test_questions = test_questions\n",
        "\n",
        "    def evaluate_mrr(self, article_id, word_vector):\n",
        "        reciprocal_ranks = []\n",
        "\n",
        "        for question_data in self.test_questions:\n",
        "            query = question_data['query']\n",
        "            true_answer = question_data['answer']\n",
        "\n",
        "            # Get the best sentence from the text matching utility\n",
        "            best_sentence = self.text_matching_utility.get_best_sentence(query, article_id, word_vector)\n",
        "\n",
        "            # If no answer found, skip this question\n",
        "            if not best_sentence:\n",
        "                continue\n",
        "\n",
        "            # Check if the true answer is in the best sentence\n",
        "            if true_answer in best_sentence:\n",
        "                rank = best_sentence.index(true_answer) + 1  # Rank of the true answer\n",
        "                reciprocal_ranks.append(1 / rank)\n",
        "\n",
        "        # Calculate MRR\n",
        "        mrr = sum(reciprocal_ranks) / len(reciprocal_ranks) if reciprocal_ranks else 0\n",
        "        return mrr"
      ]
    },
    {
      "cell_type": "code",
      "execution_count": 185,
      "id": "5beb52f1-45c9-44cf-8431-c629794a8ad8",
      "metadata": {
        "colab": {
          "base_uri": "https://localhost:8080/"
        },
        "id": "5beb52f1-45c9-44cf-8431-c629794a8ad8",
        "outputId": "82bcb52e-5995-4b34-9d1e-8a9b20e4022f"
      },
      "outputs": [
        {
          "output_type": "stream",
          "name": "stdout",
          "text": [
            "Article ID  17574\n",
            "Question: Who is the vice chairman of Samsung?\n",
            "Answer: A special prosecutor investigating the corruption scandal that led to President Park  ?s impeachment summoned the de facto head of Samsung for questioning on Wednesday, calling him a bribery suspect.\n",
            "Score 0.36449756195127636 \n",
            "\n",
            "Article ID  17574\n",
            "Question: Who is the de facto head of Samsung being questioned for bribery?\n",
            "Answer: SEOUL, South Korea  ?\n",
            "Score 0.4067497820978088 \n",
            "\n",
            "Article ID  17574\n",
            "Question: What scandal led to President Park's impeachment?\n",
            "Answer: SEOUL, South Korea  ?\n",
            "Score 0.4681912278963329 \n",
            "\n",
            "Article ID  17574\n",
            "Question: What is the name of Samsung's vice chairman?\n",
            "Answer: A special prosecutor investigating the corruption scandal that led to President Park  ?s impeachment summoned the de facto head of Samsung for questioning on Wednesday, calling him a bribery suspect.\n",
            "Score 0.36449756195127636 \n",
            "\n",
            "Article ID  17574\n",
            "Question: What is the name of the special prosecutor investigating the corruption scandal?\n",
            "Answer: SEOUL, South Korea  ?\n",
            "Score 0.43810532891506093 \n",
            "\n",
            "Article ID  17574\n",
            "Question: Who is on trial at the Constitutional Court?\n",
            "Answer: Allegations that Ms. Park helped Ms. Choi extort millions in bribes from Samsung and other companies are at the heart of the corruption scandal that led to the National Assembly?s vote to impeach her last month.\n",
            "Score 0.4946652007593497 \n",
            "\n",
            "Article ID  17574\n",
            "Question: What is the name of the special prosecutor's office spokesman?\n",
            "Answer: ?\n",
            "Score 0.4005923802428597 \n",
            "\n",
            "Article ID  17574\n",
            "Question: What charges were filed against Ms. Choi by state prosecutors?\n",
            "No answer found\n",
            "Article ID  17574\n",
            "Question: What organization's support was crucial for the merger of two Samsung affiliates?\n",
            "Answer: The emails contained information about the financial support provided by Samsung, the prosecutor?s office said.\n",
            "Score 0.43161217785872114 \n",
            "\n",
            "Article ID  17574\n",
            "Question: What amount did Samsung contribute to Ms. Choi's winter sports program?\n",
            "Answer: Samsung gave the largest donations to Ms. Choi?s foundations, totaling $17 million.\n",
            "Score 0.4654339148966598 \n",
            "\n",
            "Mean Reciprocal Rank (MRR) with spaCy word vector: 0\n"
          ]
        }
      ],
      "source": [
        "# Create an instance of TextMatchingUtility\n",
        "tm_utility = TextMatchingUtility(news_dataset)\n",
        "\n",
        "# Create an instance of TestUtility\n",
        "test_utility = TestUtility(tm_utility, test_questions)\n",
        "\n",
        "# Test with spaCy word vector and article id\n",
        "article_id = 17574  # Replace with appropriate article ID\n",
        "mrr = test_utility.evaluate_mrr(article_id, word_vector='tf-idf')\n",
        "print(\"Mean Reciprocal Rank (MRR) with spaCy word vector:\", mrr)\n"
      ]
    },
    {
      "cell_type": "code",
      "execution_count": 186,
      "id": "58aafc9f-6c3e-4a0b-9353-7a7571b58098",
      "metadata": {
        "colab": {
          "base_uri": "https://localhost:8080/"
        },
        "id": "58aafc9f-6c3e-4a0b-9353-7a7571b58098",
        "outputId": "60c02480-cbb5-4fff-a556-277ad3ef3d1b"
      },
      "outputs": [
        {
          "output_type": "stream",
          "name": "stdout",
          "text": [
            "Article ID  17574\n",
            "Question: Who is the vice chairman of Samsung?\n",
            "Answer: He is expected to be asked whether   donations that Samsung made to two foundations controlled by Choi   a longtime friend of the president, amounted to bribes, and what role, if any, he played in the decision to give the money.\n",
            "Score 0.6452350002474918 \n",
            "\n",
            "Article ID  17574\n",
            "Question: Who is the de facto head of Samsung being questioned for bribery?\n",
            "Answer: SEOUL, South Korea  ?\n",
            "Score 0.737722794448654 \n",
            "\n",
            "Article ID  17574\n",
            "Question: What scandal led to President Park's impeachment?\n",
            "Answer: Neither Samsung nor Mr. Lee responded immediately to the announcement on Wednesday.\n",
            "Score 0.7442539702783805 \n",
            "\n",
            "Article ID  17574\n",
            "Question: What is the name of Samsung's vice chairman?\n",
            "Answer: The emails contained information about the financial support provided by Samsung, the prosecutor?s office said.\n",
            "Score 0.6877933896276821 \n",
            "\n",
            "Article ID  17574\n",
            "Question: What is the name of the special prosecutor investigating the corruption scandal?\n",
            "Answer: Last month, Mr. Lee testified at a National Assembly hearing that he was not involved in the decision by Samsung to make the donations.\n",
            "Score 0.7392913339164384 \n",
            "\n",
            "Article ID  17574\n",
            "Question: Who is on trial at the Constitutional Court?\n",
            "Answer: Allegations that Ms. Park helped Ms. Choi extort millions in bribes from Samsung and other companies are at the heart of the corruption scandal that led to the National Assembly?s vote to impeach her last month.\n",
            "Score 0.6484108171985002 \n",
            "\n",
            "Article ID  17574\n",
            "Question: What is the name of the special prosecutor's office spokesman?\n",
            "Answer: He is expected to be asked whether   donations that Samsung made to two foundations controlled by Choi   a longtime friend of the president, amounted to bribes, and what role, if any, he played in the decision to give the money.\n",
            "Score 0.7626621232689227 \n",
            "\n",
            "Article ID  17574\n",
            "Question: What charges were filed against Ms. Choi by state prosecutors?\n",
            "Answer: The special prosecutor?s office said it had evidence that Mr. Lee had ?received a request for bribery from the president and ordered Samsung subsidiaries to send bribes to destinations designated by the president.\n",
            "Score 0.7104221918252797 \n",
            "\n",
            "Article ID  17574\n",
            "Question: What organization's support was crucial for the merger of two Samsung affiliates?\n",
            "Answer: Mr. Lee effectively runs Samsung, South Korea?s largest conglomerate he is the son of its chairman, Lee   who has been incapacitated with health problems.\n",
            "Score 0.7972569440782834 \n",
            "\n",
            "Article ID  17574\n",
            "Question: What amount did Samsung contribute to Ms. Choi's winter sports program?\n",
            "Answer: The emails contained information about the financial support provided by Samsung, the prosecutor?s office said.\n",
            "Score 0.7239691215976823 \n",
            "\n",
            "Mean Reciprocal Rank (MRR) with spaCy word vector: 0\n"
          ]
        }
      ],
      "source": [
        "# Create an instance of TextMatchingUtility\n",
        "tm_utility = TextMatchingUtility(news_dataset)\n",
        "\n",
        "# Create an instance of TestUtility\n",
        "test_utility = TestUtility(tm_utility, test_questions)\n",
        "\n",
        "# Test with spaCy word vector and article id\n",
        "article_id = 17574  # Replace with appropriate article ID\n",
        "mrr = test_utility.evaluate_mrr(article_id, word_vector='spaCy')\n",
        "print(\"Mean Reciprocal Rank (MRR) with spaCy word vector:\", mrr)\n"
      ]
    },
    {
      "cell_type": "code",
      "execution_count": 187,
      "id": "33c730cb-d95a-41a8-a5bb-f68bc1e1e432",
      "metadata": {
        "id": "33c730cb-d95a-41a8-a5bb-f68bc1e1e432"
      },
      "outputs": [],
      "source": [
        "class QuestionAnsweringSystem:\n",
        "    def __init__(self, model_name='deepset/bert-base-cased-squad2'):\n",
        "        self.tokenizer = AutoTokenizer.from_pretrained(model_name)\n",
        "        self.model = AutoModelForQuestionAnswering.from_pretrained(model_name)\n",
        "\n",
        "    def answer_question(self, question, article_id):\n",
        "        passage = news_dataset.loc[news_dataset['id'] == article_id, 'processed_article'].iloc[0]\n",
        "        inputs = self.tokenizer.encode_plus(question, passage, return_tensors='pt', max_length=512, truncation=True, truncation_strategy='longest_first')\n",
        "\n",
        "        input_ids = inputs['input_ids']\n",
        "        attention_mask = inputs['attention_mask']\n",
        "\n",
        "        outputs = self.model(input_ids, attention_mask=attention_mask, return_dict=True)\n",
        "        start_logits = outputs.start_logits\n",
        "        end_logits = outputs.end_logits\n",
        "\n",
        "        start_index = torch.argmax(start_logits)\n",
        "        end_index = torch.argmax(end_logits) + 1\n",
        "\n",
        "        input_tokens = self.tokenizer.convert_ids_to_tokens(input_ids[0])\n",
        "        answer_tokens = input_ids[0][start_index:end_index]\n",
        "\n",
        "        for i, token in enumerate(answer_tokens):\n",
        "            if token == self.tokenizer.cls_token_id:\n",
        "                start_index += 1\n",
        "            elif token == self.tokenizer.sep_token_id:\n",
        "                end_index -= 1\n",
        "        answer_tokens = input_ids[0][start_index:end_index]\n",
        "\n",
        "        answer = self.tokenizer.decode(answer_tokens)\n",
        "        return answer"
      ]
    },
    {
      "cell_type": "code",
      "execution_count": 188,
      "id": "8cd8918a-0e4d-4477-a33a-b4ca9dd6bfb4",
      "metadata": {
        "id": "8cd8918a-0e4d-4477-a33a-b4ca9dd6bfb4"
      },
      "outputs": [],
      "source": [
        "class TestUtility:\n",
        "    def __init__(self, test_questions):\n",
        "        self.test_questions = test_questions\n",
        "\n",
        "    @staticmethod\n",
        "    def accuracy(test_questions, predicted_labels):\n",
        "        if len(test_questions) != len(predicted_labels):\n",
        "            raise ValueError(\"Length of test_questions and predicted_labels must be the same.\")\n",
        "\n",
        "        correct = 0\n",
        "        total = len(test_questions)\n",
        "        for i in range(total):\n",
        "            correct_answer = test_questions[i]['answer'].lower()\n",
        "            predicted_label = predicted_labels[i].lower()\n",
        "            correct_answer = correct_answer.replace(\" \", \"\")\n",
        "            print(correct_answer,predicted_label)\n",
        "            if correct_answer in predicted_label:\n",
        "                correct += 1\n",
        "        if total == 0:\n",
        "            return 0  # Return 0 if there are no test questions\n",
        "        return correct / total\n",
        "\n",
        "    @staticmethod\n",
        "    def mean_reciprocal_rank(test_questions, predicted_labels):\n",
        "        rr_sum = 0\n",
        "        total = len(test_questions)\n",
        "        for i in range(total):\n",
        "            correct_answer = test_questions[i]['answer'].lower()\n",
        "            predicted_labels_lower = predicted_labels[i].lower()\n",
        "            correct_answer = correct_answer.replace(\" \", \"\")\n",
        "            if correct_answer in predicted_labels_lower:\n",
        "                rr_sum += 1 / (predicted_labels_lower.index(correct_answer) + 1)\n",
        "        return rr_sum / total if total != 0 else 0\n",
        "\n",
        "    def evaluate_performance(self, predicted_labels):\n",
        "        acc = self.accuracy(self.test_questions, predicted_labels)\n",
        "        mrr = self.mean_reciprocal_rank(self.test_questions, predicted_labels)\n",
        "\n",
        "        print(\"Accuracy:\", acc)\n",
        "        print(\"Mean Reciprocal Rank:\", mrr)\n",
        "\n",
        "    def get_predicted_labels(self, article_id, qa_model):\n",
        "        start_time = time.time()\n",
        "        answers = []\n",
        "        print_query = []\n",
        "        for index, question in enumerate(self.test_questions):\n",
        "            query = qa_model.answer_question(question['query'], article_id)\n",
        "            predicted_labels = query.replace(\" \", \"\")\n",
        "            answers.append(predicted_labels)\n",
        "            print_query.append(query)\n",
        "        end_time = time.time()\n",
        "        execution_time = end_time - start_time\n",
        "        print(\"Execution time:\", execution_time, \"seconds\")\n",
        "        return answers\n",
        "\n",
        "\n",
        "\n",
        "    def get_predicted_labels_all(self, qa_model):\n",
        "        start_time = time.time()\n",
        "        answers = []\n",
        "        print_query = []\n",
        "        for index, question in enumerate(self.test_questions):\n",
        "            query = qa_model.answer_question(question['query'], question['passage_id'])\n",
        "            predicted_labels = query.replace(\" \", \"\")\n",
        "            answers.append(predicted_labels)\n",
        "            print_query.append(query)\n",
        "        end_time = time.time()\n",
        "        execution_time = end_time - start_time\n",
        "        print(\"Execution time:\", execution_time, \"seconds\")\n",
        "        return answers\n"
      ]
    },
    {
      "cell_type": "code",
      "execution_count": 189,
      "id": "71f27a62-f22e-4154-bfbb-3234aa462caf",
      "metadata": {
        "colab": {
          "base_uri": "https://localhost:8080/"
        },
        "id": "71f27a62-f22e-4154-bfbb-3234aa462caf",
        "outputId": "602bcf0f-1043-497a-bbf8-71d2152f32a1"
      },
      "outputs": [
        {
          "output_type": "stream",
          "name": "stderr",
          "text": [
            "Some weights of the model checkpoint at deepset/bert-base-cased-squad2 were not used when initializing BertForQuestionAnswering: ['bert.pooler.dense.bias', 'bert.pooler.dense.weight']\n",
            "- This IS expected if you are initializing BertForQuestionAnswering from the checkpoint of a model trained on another task or with another architecture (e.g. initializing a BertForSequenceClassification model from a BertForPreTraining model).\n",
            "- This IS NOT expected if you are initializing BertForQuestionAnswering from the checkpoint of a model that you expect to be exactly identical (initializing a BertForSequenceClassification model from a BertForSequenceClassification model).\n"
          ]
        },
        {
          "output_type": "stream",
          "name": "stdout",
          "text": [
            "Question: Who is the vice chairman of Samsung?\n",
            "Answer: Jay Y. Lee\n"
          ]
        }
      ],
      "source": [
        "article_id = 17574\n",
        "question = \"Who is the vice chairman of Samsung?\"\n",
        "\n",
        "qa_system = QuestionAnsweringSystem()\n",
        "answer = qa_system.answer_question(question, article_id)\n",
        "\n",
        "print(\"Question:\", question)\n",
        "print(\"Answer:\", answer)"
      ]
    },
    {
      "cell_type": "code",
      "execution_count": 190,
      "id": "341fcb0b-bca3-4074-9ac4-848cbedc72fb",
      "metadata": {
        "colab": {
          "base_uri": "https://localhost:8080/"
        },
        "id": "341fcb0b-bca3-4074-9ac4-848cbedc72fb",
        "outputId": "77e7f215-4349-4ed6-ade3-80c59ef5085e"
      },
      "outputs": [
        {
          "output_type": "execute_result",
          "data": {
            "text/plain": [
              "[{'query': 'Who is the vice chairman of Samsung?', 'answer': 'Jay Y. Lee'},\n",
              " {'query': 'Who is the de facto head of Samsung being questioned for bribery?',\n",
              "  'answer': 'Jay Y. Lee'},\n",
              " {'query': \"What scandal led to President Park's impeachment?\",\n",
              "  'answer': 'corruption scandal'},\n",
              " {'query': \"What is the name of Samsung's vice chairman?\",\n",
              "  'answer': 'Jay Y. Lee'},\n",
              " {'query': 'What is the name of the special prosecutor investigating the corruption scandal?',\n",
              "  'answer': '[SEP]'},\n",
              " {'query': 'Who is on trial at the Constitutional Court?',\n",
              "  'answer': 'Ms. Park'},\n",
              " {'query': \"What is the name of the special prosecutor's office spokesman?\",\n",
              "  'answer': 'Lee'},\n",
              " {'query': 'What charges were filed against Ms. Choi by state prosecutors?',\n",
              "  'answer': 'coercing 53 big businesses'},\n",
              " {'query': \"What organization's support was crucial for the merger of two Samsung affiliates?\",\n",
              "  'answer': 'National Pension Service'},\n",
              " {'query': \"What amount did Samsung contribute to Ms. Choi's winter sports program?\",\n",
              "  'answer': '$1.3 million'}]"
            ]
          },
          "metadata": {},
          "execution_count": 190
        }
      ],
      "source": [
        "test_questions"
      ]
    },
    {
      "cell_type": "code",
      "execution_count": 191,
      "id": "700bbc91-f8ad-4dc0-9b9d-0594d05689bb",
      "metadata": {
        "colab": {
          "base_uri": "https://localhost:8080/"
        },
        "id": "700bbc91-f8ad-4dc0-9b9d-0594d05689bb",
        "outputId": "e8ecedb2-0c37-4edf-8e74-6b7fdf65adc8"
      },
      "outputs": [
        {
          "output_type": "stream",
          "name": "stdout",
          "text": [
            "Execution time: 1.1775972843170166 seconds\n",
            "jayy.lee jayy.lee\n",
            "jayy.lee jayy.lee\n",
            "corruptionscandal jayy.lee,vicechairmansamsung,questionedthursday,accordingspecialprosecutor'soffice,recommendedalsoinvestigatedsuspicionperjury.mr.leeeffectivelyrunsamsung,southkorea'slargestconglomeratesonchairman,leeincapacitatedhealthproblems.expectedaskedwhetherdonationsamsungmadetwofoundationcontrolledchoilongtimefriendpresident,amountedbribes,role,any,playeddecisiongivemoney.investigatorsspecialprosecutor'sofficequestionedseniorsamsungexecutivesuspectbriberyaccusations.neithersamsungmr.leerespondedimmediatelyannouncementwednesday.allegationsms.parkhelpedms.choiextortmillionbribesamsungcompanyheartcorruptionscandallednationalassembly'svoteimpeachlastmonth.sincethen,ms.park'spowersuspended,trialconstitutionalcourt,ultimatelydecidewhetherendpresidency.lastmonth,mr.leetestifiednationalassemblyhearinginvolveddecisionsamsungmakedonations.alsosaiddonationvoluntary,suggestingcompanyvictimextortion,participantbribery.referencewednesdaypossibleperjurychargemr.leestemmedtestimony.specialprosecutor'sofficesaidevidencemr.leereceivedrequestbriberypresidentorderedsamsungsubsidiarysendbribedestinationdesignatedpresident.askednationalassemblyfileperjurycomplaintmr.lee,wouldauthorizespecialprosecutoropeninvestigationcharge.askedwhetherinvestigatorwouldseekarrestmr.leebriberycharges,spokesmanspecialprosecutor'soffice,leesaid,possibilityopen.november,stateprosecutorindictedms.choichargecoercing53bigbusinesses,includingsamsung,contribute$69milliontwofoundations\n",
            "jayy.lee jayy.lee\n",
            "[sep] jayy.lee\n",
            "ms.park jayy.lee,vicechairmansamsung,questionedthursday,accordingspecialprosecutor'soffice,recommendedalsoinvestigatedsuspicionperjury.mr.leeeffectivelyrunsamsung,southkorea'slargestconglomeratesonchairman,leeincapacitatedhealthproblems.expectedaskedwhetherdonationsamsungmadetwofoundationcontrolledchoilongtimefriendpresident,amountedbribes,role,any,playeddecisiongivemoney.investigatorsspecialprosecutor'sofficequestionedseniorsamsungexecutivesuspectbriberyaccusations.neithersamsungmr.leerespondedimmediatelyannouncementwednesday.allegationsms.parkhelpedms.choiextortmillionbribesamsungcompanyheartcorruptionscandallednationalassembly'svoteimpeachlastmonth.sincethen,ms.park'spowersuspended,trialconstitutionalcourt,ultimatelydecidewhetherendpresidency.lastmonth,mr.leetestifiednationalassemblyhearinginvolveddecisionsamsungmakedonations\n",
            "lee jayy.lee,vicechairmansamsung,questionedthursday,accordingspecialprosecutor'soffice,recommendedalsoinvestigatedsuspicionperjury.mr.leeeffectivelyrunsamsung,southkorea'slargestconglomeratesonchairman,leeincapacitatedhealthproblems.expectedaskedwhetherdonationsamsungmadetwofoundationcontrolledchoilongtimefriendpresident,amountedbribes,role,any,playeddecisiongivemoney.investigatorsspecialprosecutor'sofficequestionedseniorsamsungexecutivesuspectbriberyaccusations.neithersamsungmr.leerespondedimmediatelyannouncementwednesday.allegationsms.parkhelpedms.choiextortmillionbribesamsungcompanyheartcorruptionscandallednationalassembly'svoteimpeachlastmonth.sincethen,ms.park'spowersuspended,trialconstitutionalcourt,ultimatelydecidewhetherendpresidency.lastmonth,mr.leetestifiednationalassemblyhearinginvolveddecisionsamsungmakedonations\n",
            "coercing53bigbusinesses twofoundations\n",
            "nationalpensionservice jayy.lee,vicechairmansamsung,questionedthursday,accordingspecialprosecutor'soffice,recommendedalsoinvestigatedsuspicionperjury.mr.leeeffectivelyrunsamsung,southkorea'slargestconglomeratesonchairman,leeincapacitatedhealthproblems.expectedaskedwhetherdonationsamsungmadetwofoundationcontrolledchoilongtimefriendpresident,amountedbribes,role,any,playeddecisiongivemoney.investigatorsspecialprosecutor'sofficequestionedseniorsamsungexecutivesuspectbriberyaccusations.neithersamsungmr.leerespondedimmediatelyannouncementwednesday.allegationsms.parkhelpedms.choiextortmillionbribesamsungcompanyheartcorruptionscandallednationalassembly'svoteimpeachlastmonth.sincethen,ms.park'spowersuspended,trialconstitutionalcourt,ultimatelydecidewhetherendpresidency.lastmonth,mr.leetestifiednationalassemblyhearinginvolveddecisionsamsungmakedonations.alsosaiddonationvoluntary,suggestingcompanyvictimextortion,participantbribery.referencewednesdaypossibleperjurychargemr.leestemmedtestimony.specialprosecutor'sofficesaidevidencemr.leereceivedrequestbriberypresidentorderedsamsungsubsidiarysendbribedestinationdesignatedpresident.askednationalassemblyfileperjurycomplaintmr.lee,wouldauthorizespecialprosecutoropeninvestigationcharge.askedwhetherinvestigatorwouldseekarrestmr.leebriberycharges,spokesmanspecialprosecutor'soffice,leesaid,possibilityopen.november,stateprosecutorindictedms.choichargecoercing53bigbusinesses,includingsamsung,contribute$69milliontwofoundations\n",
            "$1.3million $69million\n",
            "Accuracy: 0.6\n",
            "Mean Reciprocal Rank: 0.3170212365743092\n"
          ]
        }
      ],
      "source": [
        "# Instantiate TestUtility object with test questions\n",
        "test_utility = TestUtility(test_questions)\n",
        "\n",
        "# Call get_predicted_labels method to obtain predicted labels\n",
        "article_id = 17574\n",
        "\n",
        "predicted_labels = test_utility.get_predicted_labels(article_id, qa_system)\n",
        "\n",
        "# Now you can pass these predicted labels to evaluate_performance method to evaluate performance\n",
        "test_utility.evaluate_performance(predicted_labels)"
      ]
    },
    {
      "cell_type": "code",
      "execution_count": 192,
      "id": "aee88b72-d7cc-43fc-a614-935f53138d5c",
      "metadata": {
        "id": "aee88b72-d7cc-43fc-a614-935f53138d5c"
      },
      "outputs": [],
      "source": [
        "### ROBERTA"
      ]
    },
    {
      "cell_type": "code",
      "execution_count": 193,
      "id": "73b1bd36-6320-49b9-bad1-64e28679399a",
      "metadata": {
        "colab": {
          "base_uri": "https://localhost:8080/"
        },
        "id": "73b1bd36-6320-49b9-bad1-64e28679399a",
        "outputId": "d4158717-964f-4483-bff9-eb16b87ad177"
      },
      "outputs": [
        {
          "output_type": "stream",
          "name": "stdout",
          "text": [
            "Question: Who is the vice chairman of Samsung?\n",
            "Answer:  Jay Y. Lee\n"
          ]
        }
      ],
      "source": [
        "article_id = 17574\n",
        "question = \"Who is the vice chairman of Samsung?\"\n",
        "\n",
        "qa_system_roberta = QuestionAnsweringSystem(model_name= \"deepset/roberta-base-squad2\")\n",
        "answer = qa_system_roberta.answer_question(question, article_id)\n",
        "\n",
        "print(\"Question:\", question)\n",
        "print(\"Answer:\", answer)"
      ]
    },
    {
      "cell_type": "code",
      "execution_count": 194,
      "id": "f0a31a0b-e968-4e60-ba0e-d1eecd51e22c",
      "metadata": {
        "colab": {
          "base_uri": "https://localhost:8080/"
        },
        "id": "f0a31a0b-e968-4e60-ba0e-d1eecd51e22c",
        "outputId": "ec7f98d3-b703-4768-a032-47ba4c763df8"
      },
      "outputs": [
        {
          "output_type": "stream",
          "name": "stdout",
          "text": [
            "['Jay Y. Lee', 'Jay Y. Lee', 'corruption scandal', 'Jay Y. Lee', '[SEP]', 'Ms. Park', 'Lee', 'coercing 53 big businesses', 'National Pension Service', '$1.3 million']\n"
          ]
        }
      ],
      "source": [
        "true_labels = [item['answer'] for item in test_questions]\n",
        "print(true_labels)"
      ]
    },
    {
      "cell_type": "code",
      "execution_count": 195,
      "id": "2eeef873-90ae-4a73-a23f-c9f6edd8e838",
      "metadata": {
        "colab": {
          "base_uri": "https://localhost:8080/"
        },
        "id": "2eeef873-90ae-4a73-a23f-c9f6edd8e838",
        "outputId": "d56e019c-2632-46ae-ace3-0c1f4340df27"
      },
      "outputs": [
        {
          "output_type": "stream",
          "name": "stdout",
          "text": [
            "Execution time: 1.0542194843292236 seconds\n",
            "['Jay Y. Lee', 'Jay Y. Lee', 'corruption scandal', 'Jay Y. Lee', '[SEP]', 'Ms. Park', 'Lee', 'coercing 53 big businesses', 'National Pension Service', '$1.3 million']\n",
            "jayy.lee jayy.lee\n",
            "jayy.lee jayy.lee\n",
            "corruptionscandal corruption\n",
            "jayy.lee jayy.lee\n",
            "[sep] \n",
            "ms.park \n",
            "lee \n",
            "coercing53bigbusinesses coercing53bigbusinesses\n",
            "nationalpensionservice nationalpensionservice\n",
            "$1.3million $1.3million\n",
            "Accuracy: 0.6\n",
            "Mean Reciprocal Rank: 0.6\n",
            "Execution time: 1.0450286865234375 seconds\n",
            "['Jay Y. Lee', 'Jay Y. Lee', 'corruption scandal', 'Jay Y. Lee', '[SEP]', 'Ms. Park', 'Lee', 'coercing 53 big businesses', 'National Pension Service', '$1.3 million']\n",
            "jayy.lee jayy.lee\n",
            "jayy.lee jayy.lee\n",
            "corruptionscandal corruption\n",
            "jayy.lee jayy.lee\n",
            "[sep] \n",
            "ms.park \n",
            "lee \n",
            "coercing53bigbusinesses coercing53bigbusinesses\n",
            "nationalpensionservice nationalpensionservice\n",
            "$1.3million $1.3million\n",
            "Accuracy: 0.6\n",
            "Mean Reciprocal Rank: 0.6\n"
          ]
        }
      ],
      "source": [
        "# Instantiate TestUtility object with test questions\n",
        "test_utility = TestUtility(test_questions)\n",
        "\n",
        "# Call get_predicted_labels method to obtain predicted labels\n",
        "article_id = 17574\n",
        "\n",
        "predicted_labels = test_utility.get_predicted_labels(article_id, qa_system_roberta)\n",
        "\n",
        "print(true_labels)\n",
        "test_utility.evaluate_performance(predicted_labels)# Instantiate TestUtility object with test questions\n",
        "test_utility = TestUtility(test_questions)\n",
        "\n",
        "# Call get_predicted_labels method to obtain predicted labels\n",
        "article_id = 17574\n",
        "\n",
        "predicted_labels = test_utility.get_predicted_labels(article_id, qa_system_roberta)\n",
        "\n",
        "print(true_labels)\n",
        "test_utility.evaluate_performance(predicted_labels)"
      ]
    },
    {
      "cell_type": "code",
      "execution_count": 196,
      "id": "37c901fa-2ac1-457f-b5f0-9215604fb3ed",
      "metadata": {
        "colab": {
          "base_uri": "https://localhost:8080/"
        },
        "id": "37c901fa-2ac1-457f-b5f0-9215604fb3ed",
        "outputId": "54066459-77ab-42a4-de23-980717c5a2fd"
      },
      "outputs": [
        {
          "output_type": "stream",
          "name": "stderr",
          "text": [
            "Some weights of the model checkpoint at bert-large-uncased-whole-word-masking-finetuned-squad were not used when initializing BertForQuestionAnswering: ['bert.pooler.dense.bias', 'bert.pooler.dense.weight']\n",
            "- This IS expected if you are initializing BertForQuestionAnswering from the checkpoint of a model trained on another task or with another architecture (e.g. initializing a BertForSequenceClassification model from a BertForPreTraining model).\n",
            "- This IS NOT expected if you are initializing BertForQuestionAnswering from the checkpoint of a model that you expect to be exactly identical (initializing a BertForSequenceClassification model from a BertForSequenceClassification model).\n"
          ]
        }
      ],
      "source": [
        "from transformers import BertForQuestionAnswering, BertTokenizer\n",
        "\n",
        "model = BertForQuestionAnswering.from_pretrained('bert-large-uncased-whole-word-masking-finetuned-squad', resume_download=True)\n",
        "tokenizer = BertTokenizer.from_pretrained('bert-large-uncased-whole-word-masking-finetuned-squad', resume_download=True)"
      ]
    },
    {
      "cell_type": "code",
      "execution_count": 197,
      "id": "d6c557d3-3758-407e-8d81-3c5d1c67de70",
      "metadata": {
        "id": "d6c557d3-3758-407e-8d81-3c5d1c67de70"
      },
      "outputs": [],
      "source": [
        "import heapq\n",
        "\n",
        "class QuestionAnsweringModel:\n",
        "    def __init__(self, model, tokenizer):\n",
        "        self.model = model\n",
        "        self.tokenizer = tokenizer\n",
        "\n",
        "    def tokenize(self, question, answer_text):\n",
        "        '''\n",
        "        Tokenizes the input question and answer_text and sets the segment IDs.\n",
        "        '''\n",
        "        # Apply the tokenizer to the encode text, treating them as a question, answer_text pair.\n",
        "        input_ids = self.tokenizer.encode(question, answer_text, max_length=512, truncation=True, truncation_strategy='only_second')\n",
        "\n",
        "        # Report how long the input sequence is.\n",
        "        # print('Query has {:,} tokens.\\n'.format(len(input_ids)))\n",
        "\n",
        "        # Search the input_ids for the first instance of the `[SEP]` token.\n",
        "        sep_index = input_ids.index(self.tokenizer.sep_token_id)\n",
        "\n",
        "        # The number of segment A tokens includes the [SEP] token itself.\n",
        "        num_seg_a = sep_index + 1\n",
        "\n",
        "        # The remainder are segment B.\n",
        "        num_seg_b = len(input_ids) - num_seg_a\n",
        "\n",
        "        # Construct the list of 0s and 1s.\n",
        "        segment_ids = [0] * num_seg_a + [1] * num_seg_b\n",
        "\n",
        "        # There should be a segment_id for every input token.\n",
        "        assert len(segment_ids) == len(input_ids)\n",
        "\n",
        "        return input_ids, segment_ids\n",
        "\n",
        "    def evaluate(self, input_ids, segment_ids):\n",
        "        '''\n",
        "        Evaluates the input question and answer_text using the model.\n",
        "        '''\n",
        "        # Run the question through the model.\n",
        "        model_scores = self.model(torch.tensor([input_ids]), token_type_ids=torch.tensor([segment_ids]))\n",
        "        start_scores = model_scores.start_logits\n",
        "        end_scores = model_scores.end_logits\n",
        "\n",
        "        return start_scores, end_scores\n",
        "\n",
        "    def reconstruct_answer(self, input_ids, start_scores, end_scores):\n",
        "        '''\n",
        "        Reconstructs the answer from the model's output.\n",
        "        '''\n",
        "        # Find the tokens with the highest `start` and `end` scores.\n",
        "        answer_start = torch.argmax(start_scores)\n",
        "        answer_end = torch.argmax(end_scores)\n",
        "\n",
        "        # Get the string versions of the input tokens.\n",
        "        tokens = self.tokenizer.convert_ids_to_tokens(input_ids)\n",
        "\n",
        "        # Start with the first token.\n",
        "        answer = tokens[answer_start]\n",
        "\n",
        "        # Select the remaining answer tokens and join them with whitespace.\n",
        "        for i in range(answer_start + 1, answer_end + 1):\n",
        "            # If it's a subword token, then recombine it with the previous token.\n",
        "            if tokens[i][0:2] == '##':\n",
        "                answer += tokens[i][2:]\n",
        "            # Otherwise, add a space then the token.\n",
        "            else:\n",
        "                answer += ' ' + tokens[i]\n",
        "\n",
        "        return answer\n",
        "\n",
        "    def answer_question(self, question, article_id):\n",
        "        '''\n",
        "        Takes a `question` string and an `answer_text` string (which contains the\n",
        "        answer), and identifies the words within the `answer_text` that are the\n",
        "        answer. Prints them out.\n",
        "        '''\n",
        "        answer_text = news_dataset.loc[news_dataset['id'] == article_id, 'processed_article'].iloc[0]\n",
        "        input_ids, segment_ids = self.tokenize(question, answer_text)\n",
        "        start_scores, end_scores = self.evaluate(input_ids, segment_ids)\n",
        "        answer = self.reconstruct_answer(input_ids, start_scores, end_scores)\n",
        "        return answer\n",
        "\n",
        "    def answer_question_top3(self, question, article_id):\n",
        "        answer_text = news_dataset.loc[news_dataset['id'] == article_id, 'processed_article'].iloc[0]\n",
        "        input_ids, segment_ids = self.tokenize(question, answer_text)\n",
        "        start_scores, end_scores = self.evaluate(input_ids, segment_ids)\n",
        "        answers = []\n",
        "        max_answers = 3\n",
        "        # Find the top answer candidates\n",
        "        for _ in range(max_answers):\n",
        "            answer_start = torch.argmax(start_scores)\n",
        "            answer_end = torch.argmax(end_scores)\n",
        "            # Get the string versions of the input tokens.\n",
        "            tokens = self.tokenizer.convert_ids_to_tokens(input_ids)\n",
        "            answer = tokens[answer_start]\n",
        "            for i in range(answer_start + 1, answer_end + 1):\n",
        "                if tokens[i][0:2] == '##':\n",
        "                    answer += tokens[i][2:]\n",
        "                else:\n",
        "                    answer += ' ' + tokens[i]\n",
        "            confidence_score = start_scores[0][answer_start] + end_scores[0][answer_end]\n",
        "            answers.append((answer, confidence_score.item()))\n",
        "            # Mask the used tokens\n",
        "            start_scores[0][answer_start] = end_scores[0][answer_end] = float('-inf')\n",
        "        # Sort answers by confidence scores\n",
        "        top_answers = heapq.nlargest(max_answers, answers, key=lambda x: x[1])\n",
        "        return [ans[0] for ans in top_answers]\n"
      ]
    },
    {
      "cell_type": "code",
      "execution_count": 198,
      "id": "201ef03f-a4e1-4ba7-bb6d-e8a798f1c250",
      "metadata": {
        "colab": {
          "base_uri": "https://localhost:8080/"
        },
        "id": "201ef03f-a4e1-4ba7-bb6d-e8a798f1c250",
        "outputId": "88b81404-4e7e-4b2c-88fc-ec0a127cf36e"
      },
      "outputs": [
        {
          "output_type": "stream",
          "name": "stderr",
          "text": [
            "Some weights of the model checkpoint at bert-large-uncased-whole-word-masking-finetuned-squad were not used when initializing BertForQuestionAnswering: ['bert.pooler.dense.bias', 'bert.pooler.dense.weight']\n",
            "- This IS expected if you are initializing BertForQuestionAnswering from the checkpoint of a model trained on another task or with another architecture (e.g. initializing a BertForSequenceClassification model from a BertForPreTraining model).\n",
            "- This IS NOT expected if you are initializing BertForQuestionAnswering from the checkpoint of a model that you expect to be exactly identical (initializing a BertForSequenceClassification model from a BertForSequenceClassification model).\n",
            "Be aware, overflowing tokens are not returned for the setting you have chosen, i.e. sequence pairs with the 'longest_first' truncation strategy. So the returned list will always be empty even if some tokens have been removed.\n"
          ]
        },
        {
          "output_type": "stream",
          "name": "stdout",
          "text": [
            "Question: Who is the vice chairman of Samsung?\n",
            "Answer: ['jay y . lee', 'lee ,', '[SEP]']\n"
          ]
        }
      ],
      "source": [
        "model = BertForQuestionAnswering.from_pretrained('bert-large-uncased-whole-word-masking-finetuned-squad')\n",
        "tokenizer = BertTokenizer.from_pretrained('bert-large-uncased-whole-word-masking-finetuned-squad')\n",
        "\n",
        "qa_model = QuestionAnsweringModel(model, tokenizer)\n",
        "\n",
        "# Define your question and article ID\n",
        "question = \"Who is the vice chairman of Samsung?\"\n",
        "article_id =17574\n",
        "\n",
        "# Call the answer_question method to get the answer\n",
        "answer = qa_model.answer_question_top3(question, article_id)\n",
        "print(\"Question:\", question)\n",
        "print(\"Answer:\", answer)"
      ]
    },
    {
      "cell_type": "code",
      "execution_count": 199,
      "id": "ed93e50b-267d-428a-95f2-cb6203bae6a0",
      "metadata": {
        "colab": {
          "base_uri": "https://localhost:8080/"
        },
        "id": "ed93e50b-267d-428a-95f2-cb6203bae6a0",
        "outputId": "cb440ace-4c99-41f5-fad5-edcf98ffb5e4"
      },
      "outputs": [
        {
          "output_type": "stream",
          "name": "stderr",
          "text": [
            "Be aware, overflowing tokens are not returned for the setting you have chosen, i.e. sequence pairs with the 'longest_first' truncation strategy. So the returned list will always be empty even if some tokens have been removed.\n",
            "Be aware, overflowing tokens are not returned for the setting you have chosen, i.e. sequence pairs with the 'longest_first' truncation strategy. So the returned list will always be empty even if some tokens have been removed.\n",
            "Be aware, overflowing tokens are not returned for the setting you have chosen, i.e. sequence pairs with the 'longest_first' truncation strategy. So the returned list will always be empty even if some tokens have been removed.\n",
            "Be aware, overflowing tokens are not returned for the setting you have chosen, i.e. sequence pairs with the 'longest_first' truncation strategy. So the returned list will always be empty even if some tokens have been removed.\n",
            "Be aware, overflowing tokens are not returned for the setting you have chosen, i.e. sequence pairs with the 'longest_first' truncation strategy. So the returned list will always be empty even if some tokens have been removed.\n",
            "Be aware, overflowing tokens are not returned for the setting you have chosen, i.e. sequence pairs with the 'longest_first' truncation strategy. So the returned list will always be empty even if some tokens have been removed.\n",
            "Be aware, overflowing tokens are not returned for the setting you have chosen, i.e. sequence pairs with the 'longest_first' truncation strategy. So the returned list will always be empty even if some tokens have been removed.\n",
            "Be aware, overflowing tokens are not returned for the setting you have chosen, i.e. sequence pairs with the 'longest_first' truncation strategy. So the returned list will always be empty even if some tokens have been removed.\n",
            "Be aware, overflowing tokens are not returned for the setting you have chosen, i.e. sequence pairs with the 'longest_first' truncation strategy. So the returned list will always be empty even if some tokens have been removed.\n",
            "Be aware, overflowing tokens are not returned for the setting you have chosen, i.e. sequence pairs with the 'longest_first' truncation strategy. So the returned list will always be empty even if some tokens have been removed.\n"
          ]
        },
        {
          "output_type": "stream",
          "name": "stdout",
          "text": [
            "['jayy.lee', 'jayy.lee', 'corruption', 'jayy.lee', '[SEP]', 'ms.park', 'lee', 'coercing53bigbusinesses', \"[CLS]whatorganization'ssupportwascrucialforthemergeroftwosamsungaffiliates?[SEP]\", '$1.3million']\n"
          ]
        }
      ],
      "source": [
        "def predicted_labels(test_questions):\n",
        "    start_time = time.time()\n",
        "    answers = []\n",
        "    article_id = 17574\n",
        "    for index, question in enumerate(test_questions):\n",
        "        query = qa_model.answer_question(question['query'], article_id)\n",
        "        predicted_labels = query.replace(\" \", \"\")\n",
        "        answers.append(predicted_labels)\n",
        "    return answers\n",
        "predicted_labels = predicted_labels(test_questions)\n",
        "print(predicted_labels)"
      ]
    },
    {
      "cell_type": "code",
      "execution_count": 200,
      "id": "e3dfd69a-5569-4eef-b04f-23460682ef74",
      "metadata": {
        "colab": {
          "base_uri": "https://localhost:8080/"
        },
        "id": "e3dfd69a-5569-4eef-b04f-23460682ef74",
        "outputId": "93830af9-154c-4328-ff34-f3117e6c57b6"
      },
      "outputs": [
        {
          "output_type": "execute_result",
          "data": {
            "text/plain": [
              "[{'query': 'Who is the vice chairman of Samsung?', 'answer': 'Jay Y. Lee'},\n",
              " {'query': 'Who is the de facto head of Samsung being questioned for bribery?',\n",
              "  'answer': 'Jay Y. Lee'},\n",
              " {'query': \"What scandal led to President Park's impeachment?\",\n",
              "  'answer': 'corruption scandal'},\n",
              " {'query': \"What is the name of Samsung's vice chairman?\",\n",
              "  'answer': 'Jay Y. Lee'},\n",
              " {'query': 'What is the name of the special prosecutor investigating the corruption scandal?',\n",
              "  'answer': '[SEP]'},\n",
              " {'query': 'Who is on trial at the Constitutional Court?',\n",
              "  'answer': 'Ms. Park'},\n",
              " {'query': \"What is the name of the special prosecutor's office spokesman?\",\n",
              "  'answer': 'Lee'},\n",
              " {'query': 'What charges were filed against Ms. Choi by state prosecutors?',\n",
              "  'answer': 'coercing 53 big businesses'},\n",
              " {'query': \"What organization's support was crucial for the merger of two Samsung affiliates?\",\n",
              "  'answer': 'National Pension Service'},\n",
              " {'query': \"What amount did Samsung contribute to Ms. Choi's winter sports program?\",\n",
              "  'answer': '$1.3 million'}]"
            ]
          },
          "metadata": {},
          "execution_count": 200
        }
      ],
      "source": [
        "test_questions"
      ]
    },
    {
      "cell_type": "code",
      "execution_count": 201,
      "id": "fcca66eb-f729-49ff-935b-6aaf463a9d92",
      "metadata": {
        "colab": {
          "base_uri": "https://localhost:8080/"
        },
        "id": "fcca66eb-f729-49ff-935b-6aaf463a9d92",
        "outputId": "edabd8ec-cbdb-4880-a8a5-214ad96b68b3"
      },
      "outputs": [
        {
          "output_type": "stream",
          "name": "stderr",
          "text": [
            "Be aware, overflowing tokens are not returned for the setting you have chosen, i.e. sequence pairs with the 'longest_first' truncation strategy. So the returned list will always be empty even if some tokens have been removed.\n",
            "Be aware, overflowing tokens are not returned for the setting you have chosen, i.e. sequence pairs with the 'longest_first' truncation strategy. So the returned list will always be empty even if some tokens have been removed.\n",
            "Be aware, overflowing tokens are not returned for the setting you have chosen, i.e. sequence pairs with the 'longest_first' truncation strategy. So the returned list will always be empty even if some tokens have been removed.\n",
            "Be aware, overflowing tokens are not returned for the setting you have chosen, i.e. sequence pairs with the 'longest_first' truncation strategy. So the returned list will always be empty even if some tokens have been removed.\n",
            "Be aware, overflowing tokens are not returned for the setting you have chosen, i.e. sequence pairs with the 'longest_first' truncation strategy. So the returned list will always be empty even if some tokens have been removed.\n",
            "Be aware, overflowing tokens are not returned for the setting you have chosen, i.e. sequence pairs with the 'longest_first' truncation strategy. So the returned list will always be empty even if some tokens have been removed.\n",
            "Be aware, overflowing tokens are not returned for the setting you have chosen, i.e. sequence pairs with the 'longest_first' truncation strategy. So the returned list will always be empty even if some tokens have been removed.\n",
            "Be aware, overflowing tokens are not returned for the setting you have chosen, i.e. sequence pairs with the 'longest_first' truncation strategy. So the returned list will always be empty even if some tokens have been removed.\n",
            "Be aware, overflowing tokens are not returned for the setting you have chosen, i.e. sequence pairs with the 'longest_first' truncation strategy. So the returned list will always be empty even if some tokens have been removed.\n",
            "Be aware, overflowing tokens are not returned for the setting you have chosen, i.e. sequence pairs with the 'longest_first' truncation strategy. So the returned list will always be empty even if some tokens have been removed.\n"
          ]
        },
        {
          "output_type": "stream",
          "name": "stdout",
          "text": [
            "Execution time: 3.2197227478027344 seconds\n",
            "jayy.lee jayy.lee\n",
            "jayy.lee jayy.lee\n",
            "corruptionscandal corruption\n",
            "jayy.lee jayy.lee\n",
            "[sep] [sep]\n",
            "ms.park ms.park\n",
            "lee lee\n",
            "coercing53bigbusinesses coercing53bigbusinesses\n",
            "nationalpensionservice [cls]whatorganization'ssupportwascrucialforthemergeroftwosamsungaffiliates?[sep]\n",
            "$1.3million $1.3million\n",
            "Accuracy: 0.8\n",
            "Mean Reciprocal Rank: 0.8\n"
          ]
        }
      ],
      "source": [
        "# Instantiate TestUtility object with test questions\n",
        "test_utility = TestUtility(test_questions)\n",
        "\n",
        "# Call get_predicted_labels method to obtain predicted labels\n",
        "article_id = 17574\n",
        "\n",
        "predicted_labels = test_utility.get_predicted_labels(article_id, qa_model)\n",
        "\n",
        "test_utility.evaluate_performance(predicted_labels)"
      ]
    },
    {
      "cell_type": "code",
      "execution_count": 202,
      "id": "c5181aae",
      "metadata": {
        "colab": {
          "base_uri": "https://localhost:8080/"
        },
        "id": "c5181aae",
        "outputId": "f355a89b-703c-4155-a6a8-7e6de919587e"
      },
      "outputs": [
        {
          "output_type": "stream",
          "name": "stderr",
          "text": [
            "Be aware, overflowing tokens are not returned for the setting you have chosen, i.e. sequence pairs with the 'longest_first' truncation strategy. So the returned list will always be empty even if some tokens have been removed.\n"
          ]
        },
        {
          "output_type": "stream",
          "name": "stdout",
          "text": [
            "Article no.1:17904\n",
            "\n",
            "Question 1: What movie is seen as a leading contender for Best Picture at the 89th Academy Awards?\n",
            "\n",
            "Predicted Answer 1: young black man miami\n",
            "\n",
            "Actual Answer 1: Moonlight\n",
            "\n"
          ]
        },
        {
          "output_type": "stream",
          "name": "stderr",
          "text": [
            "Be aware, overflowing tokens are not returned for the setting you have chosen, i.e. sequence pairs with the 'longest_first' truncation strategy. So the returned list will always be empty even if some tokens have been removed.\n"
          ]
        },
        {
          "output_type": "stream",
          "name": "stdout",
          "text": [
            "Article no.2:18166\n",
            "\n",
            "Question 2: Who is President Trump encouraging to invoke the nuclear option regarding the confirmation of his nominee to the Supreme Court?\n",
            "\n",
            "Predicted Answer 2: mitch mcconnell\n",
            "\n",
            "Actual Answer 2: Mitch McConnell\n",
            "\n"
          ]
        },
        {
          "output_type": "stream",
          "name": "stderr",
          "text": [
            "Be aware, overflowing tokens are not returned for the setting you have chosen, i.e. sequence pairs with the 'longest_first' truncation strategy. So the returned list will always be empty even if some tokens have been removed.\n"
          ]
        },
        {
          "output_type": "stream",
          "name": "stdout",
          "text": [
            "Article no.3:18166\n",
            "\n",
            "Question 3: What tactic did President Trump suggest Senate Majority Leader Mitch McConnell use to confirm Neil Gorsuch to the Supreme Court?\n",
            "\n",
            "Predicted Answer 3: nuclear option\n",
            "\n",
            "Actual Answer 3: Nuclear option\n",
            "\n"
          ]
        },
        {
          "output_type": "stream",
          "name": "stderr",
          "text": [
            "Be aware, overflowing tokens are not returned for the setting you have chosen, i.e. sequence pairs with the 'longest_first' truncation strategy. So the returned list will always be empty even if some tokens have been removed.\n"
          ]
        },
        {
          "output_type": "stream",
          "name": "stdout",
          "text": [
            "Article no.4:18055\n",
            "\n",
            "Question 4: What is the name of Talea's mother?\n",
            "\n",
            "Predicted Answer 4: trenicia childs\n",
            "\n",
            "Actual Answer 4: Trenicia\n",
            "\n"
          ]
        },
        {
          "output_type": "stream",
          "name": "stderr",
          "text": [
            "Be aware, overflowing tokens are not returned for the setting you have chosen, i.e. sequence pairs with the 'longest_first' truncation strategy. So the returned list will always be empty even if some tokens have been removed.\n"
          ]
        },
        {
          "output_type": "stream",
          "name": "stdout",
          "text": [
            "Article no.5:17776\n",
            "\n",
            "Question 5: Who is the Roman Catholic Archbishop of New York?\n",
            "\n",
            "Predicted Answer 5: cardinal dolan\n",
            "\n",
            "Actual Answer 5: Cardinal Dolan\n",
            "\n"
          ]
        },
        {
          "output_type": "stream",
          "name": "stderr",
          "text": [
            "Be aware, overflowing tokens are not returned for the setting you have chosen, i.e. sequence pairs with the 'longest_first' truncation strategy. So the returned list will always be empty even if some tokens have been removed.\n"
          ]
        },
        {
          "output_type": "stream",
          "name": "stdout",
          "text": [
            "Article no.6:17776\n",
            "\n",
            "Question 6: How many religious leaders are scheduled to participate in Donald J. Trump's inauguration ceremony?\n",
            "\n",
            "Predicted Answer 6: six\n",
            "\n",
            "Actual Answer 6: Six\n",
            "\n",
            "Article no.7:18079\n",
            "\n",
            "Question 7: What is the name of the atoll where Tim Snider and other veterans were tasked with cleaning up nuclear fallout?\n",
            "\n",
            "Predicted Answer 7: enewetak\n",
            "\n",
            "Actual Answer 7: Enewetak Atoll\n",
            "\n",
            "Article no.8:17895\n",
            "\n",
            "Question 8: What is the biggest problem identified by Energy Department reports regarding the cleanup of Enewetak Atoll?\n",
            "\n",
            "Predicted Answer 8: [CLS] what is the biggest problem identified by energy department reports regarding the cleanup of enewetak atoll ? [SEP]\n",
            "\n",
            "Actual Answer 8: Runit Island\n",
            "\n"
          ]
        },
        {
          "output_type": "stream",
          "name": "stderr",
          "text": [
            "Be aware, overflowing tokens are not returned for the setting you have chosen, i.e. sequence pairs with the 'longest_first' truncation strategy. So the returned list will always be empty even if some tokens have been removed.\n"
          ]
        },
        {
          "output_type": "stream",
          "name": "stdout",
          "text": [
            "Article no.9:18253\n",
            "\n",
            "Question 9: According to Bonsor, what can travelers do to avoid feeling overwhelmed in large cities?\n",
            "\n",
            "Predicted Answer 9: [CLS] according to bonsor , what can travelers do to avoid feeling overwhelmed in large cities ? [SEP] beach spa vacation typically associated relaxation urban getaway tend go , go , go , always case , according michael bonsor , hotel manager rosewood london . absolutely head city relaxing vacation , said . here , mr . bonsor share tip trip busy city setting : set mood beforehand use journey destination opportunity get vacation mode : flying , use pair headphone order glass champagne another drink enjoy get board . watch movie listen music ipad airline ' s entertainment system . driving , plan hit road rush hour , spend hour sitting traffic playlist hand favorite song carry indulgent snack bar good chocolate . idea , mr . bonsor said , start unwinding vacation starts . pick manageable city large city like new york city , paris tokyo usually lend relaxation\n",
            "\n",
            "Actual Answer 9: Choose smaller cities\n",
            "\n",
            "Article no.10:17574\n",
            "\n",
            "Question 10: What amount did Samsung contribute to Ms. Choi's winter sports program?\n",
            "\n",
            "Predicted Answer 10: $ 1 . 3 million\n",
            "\n",
            "Actual Answer 10: $1.3 million\n",
            "\n"
          ]
        }
      ],
      "source": [
        "for i, question in enumerate(test_questions_all):\n",
        "    answer = qa_model.answer_question(question['query'], question['passage_id'])\n",
        "    # Print the question, passage, and answer\n",
        "    print(\"Article no.{}:{}\\n\".format(i+1, question['passage_id']))\n",
        "    print(\"Question {}: {}\\n\".format(i+1, question['query']))\n",
        "    print(\"Predicted Answer {}: {}\\n\".format(i+1, answer))\n",
        "    print(\"Actual Answer {}: {}\\n\".format(i+1, question['answer']))"
      ]
    },
    {
      "cell_type": "code",
      "source": [
        "# Instantiate TestUtility object with test questions\n",
        "test_utility = TestUtility(test_questions_all)\n",
        "predicted_labels = test_utility.get_predicted_labels_all(qa_model)\n",
        "test_utility.evaluate_performance(predicted_labels)"
      ],
      "metadata": {
        "colab": {
          "base_uri": "https://localhost:8080/"
        },
        "id": "0nTP2KDhPeOi",
        "outputId": "f078126c-bc12-4dcd-e944-72a04ec5e0b1"
      },
      "id": "0nTP2KDhPeOi",
      "execution_count": 203,
      "outputs": [
        {
          "output_type": "stream",
          "name": "stderr",
          "text": [
            "Be aware, overflowing tokens are not returned for the setting you have chosen, i.e. sequence pairs with the 'longest_first' truncation strategy. So the returned list will always be empty even if some tokens have been removed.\n",
            "Be aware, overflowing tokens are not returned for the setting you have chosen, i.e. sequence pairs with the 'longest_first' truncation strategy. So the returned list will always be empty even if some tokens have been removed.\n",
            "Be aware, overflowing tokens are not returned for the setting you have chosen, i.e. sequence pairs with the 'longest_first' truncation strategy. So the returned list will always be empty even if some tokens have been removed.\n",
            "Be aware, overflowing tokens are not returned for the setting you have chosen, i.e. sequence pairs with the 'longest_first' truncation strategy. So the returned list will always be empty even if some tokens have been removed.\n",
            "Be aware, overflowing tokens are not returned for the setting you have chosen, i.e. sequence pairs with the 'longest_first' truncation strategy. So the returned list will always be empty even if some tokens have been removed.\n",
            "Be aware, overflowing tokens are not returned for the setting you have chosen, i.e. sequence pairs with the 'longest_first' truncation strategy. So the returned list will always be empty even if some tokens have been removed.\n",
            "Be aware, overflowing tokens are not returned for the setting you have chosen, i.e. sequence pairs with the 'longest_first' truncation strategy. So the returned list will always be empty even if some tokens have been removed.\n"
          ]
        },
        {
          "output_type": "stream",
          "name": "stdout",
          "text": [
            "Execution time: 3.499734401702881 seconds\n",
            "moonlight youngblackmanmiami\n",
            "mitchmcconnell mitchmcconnell\n",
            "nuclearoption nuclearoption\n",
            "trenicia treniciachilds\n",
            "cardinaldolan cardinaldolan\n",
            "six six\n",
            "enewetakatoll enewetak\n",
            "runitisland [cls]whatisthebiggestproblemidentifiedbyenergydepartmentreportsregardingthecleanupofenewetakatoll?[sep]\n",
            "choosesmallercities [cls]accordingtobonsor,whatcantravelersdotoavoidfeelingoverwhelmedinlargecities?[sep]beachspavacationtypicallyassociatedrelaxationurbangetawaytendgo,go,go,alwayscase,accordingmichaelbonsor,hotelmanagerrosewoodlondon.absolutelyheadcityrelaxingvacation,said.here,mr.bonsorsharetiptripbusycitysetting:setmoodbeforehandusejourneydestinationopportunitygetvacationmode:flying,usepairheadphoneorderglasschampagneanotherdrinkenjoygetboard.watchmovielistenmusicipadairline'sentertainmentsystem.driving,planhitroadrushhour,spendhoursittingtrafficplaylisthandfavoritesongcarryindulgentsnackbargoodchocolate.idea,mr.bonsorsaid,startunwindingvacationstarts.pickmanageablecitylargecitylikenewyorkcity,paristokyousuallylendrelaxation\n",
            "$1.3million $1.3million\n",
            "Accuracy: 0.6\n",
            "Mean Reciprocal Rank: 0.6\n"
          ]
        }
      ]
    },
    {
      "cell_type": "code",
      "source": [
        "def ask_question():\n",
        "    article_id = input(\"Enter the article ID (type 'exit' to quit): \")\n",
        "    if article_id.lower() == 'exit':\n",
        "        print(\"Exiting the program...\")\n",
        "        return\n",
        "    try:\n",
        "        article_id = int(article_id)\n",
        "        if article_id not in news_dataset['id'].tolist():\n",
        "            print(\"Invalid article number.\")\n",
        "            ask_question()\n",
        "            return\n",
        "        question = input(\"Ask your question: \")\n",
        "        answer = qa_model.answer_question(question, article_id)\n",
        "        print(\"Answer:\", answer)\n",
        "    except ValueError:\n",
        "        print(\"Article ID should be an integer. Please try again.\")\n",
        "    ask_question()"
      ],
      "metadata": {
        "id": "sxd4KTkfQEUR"
      },
      "id": "sxd4KTkfQEUR",
      "execution_count": 204,
      "outputs": []
    },
    {
      "cell_type": "code",
      "source": [
        "ask_question()"
      ],
      "metadata": {
        "colab": {
          "base_uri": "https://localhost:8080/"
        },
        "id": "gWHELXggRog_",
        "outputId": "c36aef6f-05c2-4099-bcd4-7a0a1bf6c895"
      },
      "id": "gWHELXggRog_",
      "execution_count": null,
      "outputs": [
        {
          "name": "stdout",
          "output_type": "stream",
          "text": [
            "Enter the article ID (type 'exit' to quit): 121513\n",
            "Invalid article number.\n",
            "Enter the article ID (type 'exit' to quit): 17574\n",
            "Ask your question: Who is the vice chairman of Samsung?\n"
          ]
        },
        {
          "output_type": "stream",
          "name": "stderr",
          "text": [
            "Be aware, overflowing tokens are not returned for the setting you have chosen, i.e. sequence pairs with the 'longest_first' truncation strategy. So the returned list will always be empty even if some tokens have been removed.\n"
          ]
        },
        {
          "name": "stdout",
          "output_type": "stream",
          "text": [
            "Answer: jay y . lee\n",
            "Enter the article ID (type 'exit' to quit): 17776\n",
            "Ask your question: Who is the Roman Catholic Archbishop of New York?\n"
          ]
        },
        {
          "output_type": "stream",
          "name": "stderr",
          "text": [
            "Be aware, overflowing tokens are not returned for the setting you have chosen, i.e. sequence pairs with the 'longest_first' truncation strategy. So the returned list will always be empty even if some tokens have been removed.\n"
          ]
        },
        {
          "name": "stdout",
          "output_type": "stream",
          "text": [
            "Answer: cardinal dolan\n",
            "Enter the article ID (type 'exit' to quit): 17776\n",
            "Ask your question: How many religious leaders are scheduled to participate in Donald J. Trump's inauguration ceremony?\n"
          ]
        },
        {
          "output_type": "stream",
          "name": "stderr",
          "text": [
            "Be aware, overflowing tokens are not returned for the setting you have chosen, i.e. sequence pairs with the 'longest_first' truncation strategy. So the returned list will always be empty even if some tokens have been removed.\n"
          ]
        },
        {
          "name": "stdout",
          "output_type": "stream",
          "text": [
            "Answer: six\n",
            "Enter the article ID (type 'exit' to quit): 17574\n",
            "Ask your question: What amount did Samsung contribute to Ms. Choi's winter sports program?\n"
          ]
        },
        {
          "output_type": "stream",
          "name": "stderr",
          "text": [
            "Be aware, overflowing tokens are not returned for the setting you have chosen, i.e. sequence pairs with the 'longest_first' truncation strategy. So the returned list will always be empty even if some tokens have been removed.\n"
          ]
        },
        {
          "output_type": "stream",
          "name": "stdout",
          "text": [
            "Answer: $ 1 . 3 million\n",
            "Enter the article ID (type 'exit' to quit): What amount did Samsung contribute to Ms. Choi's winter sports program?\n",
            "Article ID should be an integer. Please try again.\n",
            "Enter the article ID (type 'exit' to quit): quit\n",
            "Article ID should be an integer. Please try again.\n"
          ]
        }
      ]
    },
    {
      "cell_type": "markdown",
      "id": "9d3a91b4",
      "metadata": {
        "id": "9d3a91b4"
      },
      "source": [
        "## B. References"
      ]
    },
    {
      "cell_type": "markdown",
      "id": "cf7553c1",
      "metadata": {
        "id": "cf7553c1"
      },
      "source": [
        "## C. Appendix"
      ]
    }
  ],
  "metadata": {
    "kernelspec": {
      "display_name": "Python 3",
      "name": "python3"
    },
    "language_info": {
      "codemirror_mode": {
        "name": "ipython",
        "version": 3
      },
      "file_extension": ".py",
      "mimetype": "text/x-python",
      "name": "python",
      "nbconvert_exporter": "python",
      "pygments_lexer": "ipython3",
      "version": "3.7.16"
    },
    "colab": {
      "provenance": [],
      "gpuType": "V28"
    },
    "accelerator": "TPU"
  },
  "nbformat": 4,
  "nbformat_minor": 5
}